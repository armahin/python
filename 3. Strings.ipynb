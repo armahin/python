{
  "nbformat": 4,
  "nbformat_minor": 0,
  "metadata": {
    "colab": {
      "provenance": [],
      "collapsed_sections": [
        "tuUSYf6l6H9M",
        "hGBiVe7fWniu",
        "pAXNA_MadDdR",
        "NgSaiONyeCAO",
        "sA6ie6cbfO9A",
        "Gd12nVkdhAwh"
      ],
      "authorship_tag": "ABX9TyO00E3TsN8sCBxSoTP27ciK",
      "include_colab_link": true
    },
    "kernelspec": {
      "name": "python3",
      "display_name": "Python 3"
    },
    "language_info": {
      "name": "python"
    }
  },
  "cells": [
    {
      "cell_type": "markdown",
      "metadata": {
        "id": "view-in-github",
        "colab_type": "text"
      },
      "source": [
        "<a href=\"https://colab.research.google.com/github/armahin/python/blob/main/3.%20Strings.ipynb\" target=\"_parent\"><img src=\"https://colab.research.google.com/assets/colab-badge.svg\" alt=\"Open In Colab\"/></a>"
      ]
    },
    {
      "cell_type": "markdown",
      "source": [
        "# String"
      ],
      "metadata": {
        "id": "yHaGJGHndUwr"
      }
    },
    {
      "cell_type": "markdown",
      "source": [
        "In Python speficially, strings are a sequence of Unicode Characters\n",
        "*   Creating String\n",
        "*   Accessing String\n",
        "*   Adding Chars to Strings\n",
        "*   Editing Strings\n",
        "*   Deleting Strings\n",
        "*   Operations on Strings\n",
        "*   String Functions\n",
        "\n",
        "\n",
        "\n"
      ],
      "metadata": {
        "id": "77h-QZaeddHd"
      }
    },
    {
      "cell_type": "markdown",
      "source": [
        "**Creating Strings**"
      ],
      "metadata": {
        "id": "iVtRUPO8fe8U"
      }
    },
    {
      "cell_type": "code",
      "source": [
        "\n",
        "s='hello'\n",
        "s =\"hello\"    # \"it's raining outside\"\n",
        "\n",
        "#For multiline strings\n",
        "s = '''hello'''\n",
        "s = \"\"\"hello\"\"\"\n",
        "s =str('Hello')\n",
        "print(s)"
      ],
      "metadata": {
        "colab": {
          "base_uri": "https://localhost:8080/"
        },
        "id": "Mm2Zhrb9d-76",
        "outputId": "18768da5-f69a-490e-83d3-1e03ccdaacc5"
      },
      "execution_count": null,
      "outputs": [
        {
          "output_type": "stream",
          "name": "stdout",
          "text": [
            "Hello\n"
          ]
        }
      ]
    },
    {
      "cell_type": "markdown",
      "source": [
        "**Accessing Substrings from a String**"
      ],
      "metadata": {
        "id": "Jfx-8pMOfkBT"
      }
    },
    {
      "cell_type": "code",
      "source": [
        "#Positive Indexing\n",
        "s = 'Hello World'\n",
        "print(s[0])"
      ],
      "metadata": {
        "colab": {
          "base_uri": "https://localhost:8080/"
        },
        "id": "dzzxurkNfEtK",
        "outputId": "238a2bd2-930d-4609-dc87-5cec67ce9ea6"
      },
      "execution_count": null,
      "outputs": [
        {
          "output_type": "stream",
          "name": "stdout",
          "text": [
            "H\n"
          ]
        }
      ]
    },
    {
      "cell_type": "code",
      "source": [
        " #Negative Indexing\n",
        " s = \"arian mahin sikder\"\n",
        " print(s[-1])"
      ],
      "metadata": {
        "colab": {
          "base_uri": "https://localhost:8080/"
        },
        "id": "pwLTSwVGfvB7",
        "outputId": "6de654d0-1413-411e-9fc9-ce4791e10327"
      },
      "execution_count": null,
      "outputs": [
        {
          "output_type": "stream",
          "name": "stdout",
          "text": [
            "r\n"
          ]
        }
      ]
    },
    {
      "cell_type": "code",
      "source": [
        "# Now i want to access more than one characters for that we need to learn slicing\n"
      ],
      "metadata": {
        "id": "wBP6SeOcgVlj"
      },
      "execution_count": null,
      "outputs": []
    },
    {
      "cell_type": "code",
      "source": [
        "#Slicing\n",
        "a =\"hello world\"\n",
        "print(a[0:5])  #Last no is not counted"
      ],
      "metadata": {
        "colab": {
          "base_uri": "https://localhost:8080/"
        },
        "id": "h-VE-6joglVK",
        "outputId": "dee7a8ec-12e4-449b-cdeb-913ddf203d52"
      },
      "execution_count": null,
      "outputs": [
        {
          "output_type": "stream",
          "name": "stdout",
          "text": [
            "hello\n"
          ]
        }
      ]
    },
    {
      "cell_type": "code",
      "source": [
        "print(a[2:])"
      ],
      "metadata": {
        "colab": {
          "base_uri": "https://localhost:8080/"
        },
        "id": "SLkKFf1xg4CT",
        "outputId": "6ddce241-b67b-4975-d76e-9635263e9587"
      },
      "execution_count": null,
      "outputs": [
        {
          "output_type": "stream",
          "name": "stdout",
          "text": [
            "llo world\n"
          ]
        }
      ]
    },
    {
      "cell_type": "code",
      "source": [
        "print(a[:3])"
      ],
      "metadata": {
        "colab": {
          "base_uri": "https://localhost:8080/"
        },
        "id": "PyyjdkpHhlQb",
        "outputId": "03d92dc0-02d0-4958-a32a-afaddbdb606b"
      },
      "execution_count": null,
      "outputs": [
        {
          "output_type": "stream",
          "name": "stdout",
          "text": [
            "hel\n"
          ]
        }
      ]
    },
    {
      "cell_type": "code",
      "source": [
        "print(a[0:6:2])"
      ],
      "metadata": {
        "colab": {
          "base_uri": "https://localhost:8080/"
        },
        "id": "P2yRT8lmhpVL",
        "outputId": "8514de47-8b74-48ec-885d-28cba69cdd22"
      },
      "execution_count": null,
      "outputs": [
        {
          "output_type": "stream",
          "name": "stdout",
          "text": [
            "hlo\n"
          ]
        }
      ]
    },
    {
      "cell_type": "code",
      "source": [
        "print(s[::-1])"
      ],
      "metadata": {
        "id": "dXi8H8X2h0Ur",
        "colab": {
          "base_uri": "https://localhost:8080/"
        },
        "outputId": "e0211c50-4d1f-4c43-efb8-6d4021a9cf37"
      },
      "execution_count": null,
      "outputs": [
        {
          "output_type": "stream",
          "name": "stdout",
          "text": [
            "redkis niham naira\n"
          ]
        }
      ]
    },
    {
      "cell_type": "code",
      "source": [
        "n = 'atkia anjum madhurjo'\n",
        "print(n[::-1])"
      ],
      "metadata": {
        "colab": {
          "base_uri": "https://localhost:8080/"
        },
        "id": "KeQ8MTGIy3Qb",
        "outputId": "7e620352-fb3f-46fa-fdf3-02279752ab55"
      },
      "execution_count": null,
      "outputs": [
        {
          "output_type": "stream",
          "name": "stdout",
          "text": [
            "ojruhdam mujna aikta\n"
          ]
        }
      ]
    },
    {
      "cell_type": "code",
      "source": [
        "print(n[-8:])"
      ],
      "metadata": {
        "colab": {
          "base_uri": "https://localhost:8080/"
        },
        "id": "nugERH8yzGMk",
        "outputId": "ed63c0e8-0660-4676-abb3-7e6c9a2132d5"
      },
      "execution_count": null,
      "outputs": [
        {
          "output_type": "stream",
          "name": "stdout",
          "text": [
            "madhurjo\n"
          ]
        }
      ]
    },
    {
      "cell_type": "code",
      "source": [
        "print(n[-1:-9:-1])"
      ],
      "metadata": {
        "colab": {
          "base_uri": "https://localhost:8080/"
        },
        "id": "CDDfP3BNzWvT",
        "outputId": "10ecdda7-a4d1-47b0-cc5d-09659df85ae5"
      },
      "execution_count": null,
      "outputs": [
        {
          "output_type": "stream",
          "name": "stdout",
          "text": [
            "ojruhdam\n"
          ]
        }
      ]
    },
    {
      "cell_type": "code",
      "source": [
        "#Editing and Deleting in String\n",
        "s = 'hello world'\n",
        "# s[0] = 'S' will throw error because\n",
        "\n",
        "#Python string is immutable\n",
        "\n",
        "#Deleting a string\n",
        "\n",
        "del s\n",
        "# print(s) Here this will throw error cause s is deleted"
      ],
      "metadata": {
        "id": "aVLDir7a0JWM"
      },
      "execution_count": null,
      "outputs": []
    },
    {
      "cell_type": "markdown",
      "source": [
        "# Operations on Strings"
      ],
      "metadata": {
        "id": "XEe3vRhH0F1P"
      }
    },
    {
      "cell_type": "markdown",
      "source": [
        "\n",
        "\n",
        "*   Arithmatic Operations\n",
        "*   Relational Operations\n",
        "*   Logical Operations\n",
        "*   Loops on Strings\n",
        "*   Membership Operations\n",
        "\n",
        "\n",
        "\n",
        "\n"
      ],
      "metadata": {
        "id": "zgEP4-xi1Xdj"
      }
    },
    {
      "cell_type": "markdown",
      "source": [
        "**Arithmatic Operations**\n",
        "\n",
        "*Only addition and multiplication works on strings*"
      ],
      "metadata": {
        "id": "0kggy48_13jn"
      }
    },
    {
      "cell_type": "code",
      "source": [
        "print('Dhaka' + ' ' + 'Bangladesh')"
      ],
      "metadata": {
        "colab": {
          "base_uri": "https://localhost:8080/"
        },
        "id": "c7TcrWYb17mr",
        "outputId": "f94f03e2-346f-4a42-a0d7-272e3738fefa"
      },
      "execution_count": null,
      "outputs": [
        {
          "output_type": "stream",
          "name": "stdout",
          "text": [
            "Dhaka Bangladesh\n"
          ]
        }
      ]
    },
    {
      "cell_type": "code",
      "source": [
        "print('Dhaka'*5)"
      ],
      "metadata": {
        "colab": {
          "base_uri": "https://localhost:8080/"
        },
        "id": "FF8WlCrT2Apz",
        "outputId": "411fd384-9273-4590-941b-0457ede3ebe1"
      },
      "execution_count": null,
      "outputs": [
        {
          "output_type": "stream",
          "name": "stdout",
          "text": [
            "DhakaDhakaDhakaDhakaDhaka\n"
          ]
        }
      ]
    },
    {
      "cell_type": "markdown",
      "source": [
        "**Relational Operations**\n",
        "\n",
        "*All relational operators work on strings*"
      ],
      "metadata": {
        "id": "LLGV2BZ92Y-Q"
      }
    },
    {
      "cell_type": "code",
      "source": [
        "'dhaka' == 'bhola'"
      ],
      "metadata": {
        "colab": {
          "base_uri": "https://localhost:8080/"
        },
        "id": "BIHzIZ3H2a6z",
        "outputId": "f09fe0aa-62ff-416d-f7f8-c793499a3434"
      },
      "execution_count": null,
      "outputs": [
        {
          "output_type": "execute_result",
          "data": {
            "text/plain": [
              "False"
            ]
          },
          "metadata": {},
          "execution_count": 29
        }
      ]
    },
    {
      "cell_type": "code",
      "source": [
        "'chittagong' > 'dhaka'\n",
        "#it's comparing Lexiographically means on the basis of ASCII value"
      ],
      "metadata": {
        "colab": {
          "base_uri": "https://localhost:8080/"
        },
        "id": "p8VkqPGo2o_C",
        "outputId": "be432f43-c7c1-4b11-cd9c-f5eb99032a83"
      },
      "execution_count": null,
      "outputs": [
        {
          "output_type": "execute_result",
          "data": {
            "text/plain": [
              "False"
            ]
          },
          "metadata": {},
          "execution_count": 31
        }
      ]
    },
    {
      "cell_type": "code",
      "source": [],
      "metadata": {
        "id": "clNUQ4kM2wbi"
      },
      "execution_count": null,
      "outputs": []
    },
    {
      "cell_type": "markdown",
      "source": [
        "**Logical Operations**\n"
      ],
      "metadata": {
        "id": "4_w01bza3WDP"
      }
    },
    {
      "cell_type": "code",
      "source": [
        "'hello' and 'world' #python shows empty strings as false"
      ],
      "metadata": {
        "colab": {
          "base_uri": "https://localhost:8080/",
          "height": 35
        },
        "id": "IHakryWI3cTT",
        "outputId": "489b22a7-6ae0-4806-d1ae-ac05875bd2f5"
      },
      "execution_count": null,
      "outputs": [
        {
          "output_type": "execute_result",
          "data": {
            "text/plain": [
              "'world'"
            ],
            "application/vnd.google.colaboratory.intrinsic+json": {
              "type": "string"
            }
          },
          "metadata": {},
          "execution_count": 34
        }
      ]
    },
    {
      "cell_type": "code",
      "source": [
        "'hello' or 'world'"
      ],
      "metadata": {
        "colab": {
          "base_uri": "https://localhost:8080/",
          "height": 35
        },
        "id": "cBTglvnV3hHr",
        "outputId": "5b5b9eba-9d5b-4dee-864a-359bbdb2c122"
      },
      "execution_count": null,
      "outputs": [
        {
          "output_type": "execute_result",
          "data": {
            "text/plain": [
              "'hello'"
            ],
            "application/vnd.google.colaboratory.intrinsic+json": {
              "type": "string"
            }
          },
          "metadata": {},
          "execution_count": 33
        }
      ]
    },
    {
      "cell_type": "markdown",
      "source": [
        "**Loops on Strings**"
      ],
      "metadata": {
        "id": "-xGs7G9L4Pov"
      }
    },
    {
      "cell_type": "code",
      "source": [
        "for i in 'hello':\n",
        "  print(i)"
      ],
      "metadata": {
        "colab": {
          "base_uri": "https://localhost:8080/"
        },
        "id": "GIugc_Li4RZC",
        "outputId": "c350de32-de73-4cdf-b490-513b9d657e81"
      },
      "execution_count": null,
      "outputs": [
        {
          "output_type": "stream",
          "name": "stdout",
          "text": [
            "h\n",
            "e\n",
            "l\n",
            "l\n",
            "o\n"
          ]
        }
      ]
    },
    {
      "cell_type": "code",
      "source": [
        "for i in 'dhaka':\n",
        "  print('Bhola')"
      ],
      "metadata": {
        "colab": {
          "base_uri": "https://localhost:8080/"
        },
        "id": "2zRcRQbJ4YGj",
        "outputId": "b7c3cba3-007c-4b20-f1f1-b113178ab1cf"
      },
      "execution_count": null,
      "outputs": [
        {
          "output_type": "stream",
          "name": "stdout",
          "text": [
            "Bhola\n",
            "Bhola\n",
            "Bhola\n",
            "Bhola\n",
            "Bhola\n"
          ]
        }
      ]
    },
    {
      "cell_type": "markdown",
      "source": [
        "**Membership Operators**"
      ],
      "metadata": {
        "id": "0lueBmJi4uff"
      }
    },
    {
      "cell_type": "code",
      "source": [
        "'D' in 'Dhaka'"
      ],
      "metadata": {
        "colab": {
          "base_uri": "https://localhost:8080/"
        },
        "id": "ueup0gKK4z3D",
        "outputId": "850d2f5e-3f96-4c7a-8235-f844e24859fd"
      },
      "execution_count": null,
      "outputs": [
        {
          "output_type": "execute_result",
          "data": {
            "text/plain": [
              "True"
            ]
          },
          "metadata": {},
          "execution_count": 39
        }
      ]
    },
    {
      "cell_type": "code",
      "source": [
        "'D' not in 'Dhaka'"
      ],
      "metadata": {
        "colab": {
          "base_uri": "https://localhost:8080/"
        },
        "id": "LTerP4It44LD",
        "outputId": "3d929f2f-d7c7-455f-d0c6-d83ba1457928"
      },
      "execution_count": null,
      "outputs": [
        {
          "output_type": "execute_result",
          "data": {
            "text/plain": [
              "False"
            ]
          },
          "metadata": {},
          "execution_count": 40
        }
      ]
    },
    {
      "cell_type": "code",
      "source": [],
      "metadata": {
        "id": "6CW9Z2aw5AEc"
      },
      "execution_count": null,
      "outputs": []
    },
    {
      "cell_type": "markdown",
      "source": [
        "# String Functions (Common)\n",
        "\n",
        "\n",
        "*   len\n",
        "*   max\n",
        "*   min\n",
        "*   sorted\n",
        "\n"
      ],
      "metadata": {
        "id": "ARKq_iCU5MUT"
      }
    },
    {
      "cell_type": "code",
      "source": [
        "len('Hello World')"
      ],
      "metadata": {
        "colab": {
          "base_uri": "https://localhost:8080/"
        },
        "id": "V6P4g7Ud5VvL",
        "outputId": "55cfb07d-f1a1-4d97-bf25-58e5c42870dc"
      },
      "execution_count": null,
      "outputs": [
        {
          "output_type": "execute_result",
          "data": {
            "text/plain": [
              "11"
            ]
          },
          "metadata": {},
          "execution_count": 5
        }
      ]
    },
    {
      "cell_type": "code",
      "source": [
        "max('Hello World') #on the basis of ascii value"
      ],
      "metadata": {
        "colab": {
          "base_uri": "https://localhost:8080/",
          "height": 35
        },
        "id": "a5GoFPrV5ks7",
        "outputId": "0ecc7b4d-843f-4e23-ec0f-0b78aef16599"
      },
      "execution_count": null,
      "outputs": [
        {
          "output_type": "execute_result",
          "data": {
            "text/plain": [
              "'r'"
            ],
            "application/vnd.google.colaboratory.intrinsic+json": {
              "type": "string"
            }
          },
          "metadata": {},
          "execution_count": 43
        }
      ]
    },
    {
      "cell_type": "code",
      "source": [
        "min('Hello World')"
      ],
      "metadata": {
        "colab": {
          "base_uri": "https://localhost:8080/",
          "height": 35
        },
        "id": "Upnawo815m6L",
        "outputId": "9fd50070-424b-440a-c4fc-a9a394013518"
      },
      "execution_count": null,
      "outputs": [
        {
          "output_type": "execute_result",
          "data": {
            "text/plain": [
              "' '"
            ],
            "application/vnd.google.colaboratory.intrinsic+json": {
              "type": "string"
            }
          },
          "metadata": {},
          "execution_count": 45
        }
      ]
    },
    {
      "cell_type": "code",
      "source": [
        "sorted('hello world') #Output will be a list and sorted on the basis of ascii value"
      ],
      "metadata": {
        "colab": {
          "base_uri": "https://localhost:8080/"
        },
        "id": "J8poDZ1h5xuL",
        "outputId": "106f6bda-dc10-4c1d-ca47-4f9bd31d853c"
      },
      "execution_count": null,
      "outputs": [
        {
          "output_type": "execute_result",
          "data": {
            "text/plain": [
              "[' ', 'd', 'e', 'h', 'l', 'l', 'l', 'o', 'o', 'r', 'w']"
            ]
          },
          "metadata": {},
          "execution_count": 47
        }
      ]
    },
    {
      "cell_type": "code",
      "source": [
        "sorted('hello world',reverse = True)"
      ],
      "metadata": {
        "colab": {
          "base_uri": "https://localhost:8080/"
        },
        "id": "3z-MMZhC52AD",
        "outputId": "b62d78f4-7c14-463d-e0e5-d382ed25250c"
      },
      "execution_count": null,
      "outputs": [
        {
          "output_type": "execute_result",
          "data": {
            "text/plain": [
              "['w', 'r', 'o', 'o', 'l', 'l', 'l', 'h', 'e', 'd', ' ']"
            ]
          },
          "metadata": {},
          "execution_count": 48
        }
      ]
    },
    {
      "cell_type": "code",
      "source": [],
      "metadata": {
        "id": "qv-oHH7L6Cmz"
      },
      "execution_count": null,
      "outputs": []
    },
    {
      "cell_type": "markdown",
      "source": [
        "# Capitalize/Title/Upper/Lower/Swapcase"
      ],
      "metadata": {
        "id": "tuUSYf6l6H9M"
      }
    },
    {
      "cell_type": "markdown",
      "source": [
        "***NB: These functions only work on strings***"
      ],
      "metadata": {
        "id": "2diNNVaX64xf"
      }
    },
    {
      "cell_type": "code",
      "source": [
        "s = 'hello mahin'\n",
        "b = 'MahInsIkdEr'"
      ],
      "metadata": {
        "id": "gfr2xu3O6Mky"
      },
      "execution_count": null,
      "outputs": []
    },
    {
      "cell_type": "code",
      "source": [
        "s.capitalize()"
      ],
      "metadata": {
        "colab": {
          "base_uri": "https://localhost:8080/",
          "height": 35
        },
        "id": "YG3BLRMS6jAD",
        "outputId": "71e7c2e0-8ecb-46e2-a6b2-3a85378eec34"
      },
      "execution_count": null,
      "outputs": [
        {
          "output_type": "execute_result",
          "data": {
            "text/plain": [
              "'Hello mahin'"
            ],
            "application/vnd.google.colaboratory.intrinsic+json": {
              "type": "string"
            }
          },
          "metadata": {},
          "execution_count": 53
        }
      ]
    },
    {
      "cell_type": "code",
      "source": [
        "s.title()"
      ],
      "metadata": {
        "colab": {
          "base_uri": "https://localhost:8080/",
          "height": 35
        },
        "id": "k9oqeRv06TRL",
        "outputId": "0c428a29-2471-4869-fa2a-e3590d82658b"
      },
      "execution_count": null,
      "outputs": [
        {
          "output_type": "execute_result",
          "data": {
            "text/plain": [
              "'Hello Mahin'"
            ],
            "application/vnd.google.colaboratory.intrinsic+json": {
              "type": "string"
            }
          },
          "metadata": {},
          "execution_count": 54
        }
      ]
    },
    {
      "cell_type": "code",
      "source": [
        "s.upper()"
      ],
      "metadata": {
        "colab": {
          "base_uri": "https://localhost:8080/",
          "height": 35
        },
        "id": "LBdG4kiI6c57",
        "outputId": "721d1ca8-9168-46fe-b7b4-bb9e3334c9f2"
      },
      "execution_count": null,
      "outputs": [
        {
          "output_type": "execute_result",
          "data": {
            "text/plain": [
              "'HELLO MAHIN'"
            ],
            "application/vnd.google.colaboratory.intrinsic+json": {
              "type": "string"
            }
          },
          "metadata": {},
          "execution_count": 55
        }
      ]
    },
    {
      "cell_type": "code",
      "source": [
        "s.lower()"
      ],
      "metadata": {
        "colab": {
          "base_uri": "https://localhost:8080/",
          "height": 35
        },
        "id": "5kWcZnGJ6nwq",
        "outputId": "dbfe83b3-bbb1-4c64-f101-a831d7ac4e0c"
      },
      "execution_count": null,
      "outputs": [
        {
          "output_type": "execute_result",
          "data": {
            "text/plain": [
              "'hello mahin'"
            ],
            "application/vnd.google.colaboratory.intrinsic+json": {
              "type": "string"
            }
          },
          "metadata": {},
          "execution_count": 56
        }
      ]
    },
    {
      "cell_type": "code",
      "source": [
        "b.swapcase()"
      ],
      "metadata": {
        "colab": {
          "base_uri": "https://localhost:8080/",
          "height": 35
        },
        "id": "03uC5Z2q6o9K",
        "outputId": "67452b82-5914-474d-a932-10c51920a767"
      },
      "execution_count": null,
      "outputs": [
        {
          "output_type": "execute_result",
          "data": {
            "text/plain": [
              "'mAHiNSiKDeR'"
            ],
            "application/vnd.google.colaboratory.intrinsic+json": {
              "type": "string"
            }
          },
          "metadata": {},
          "execution_count": 59
        }
      ]
    },
    {
      "cell_type": "markdown",
      "source": [
        "# Count/Find/Index"
      ],
      "metadata": {
        "id": "Q1-_PKl37FwW"
      }
    },
    {
      "cell_type": "code",
      "source": [
        "'my name is nitish'.count(i)"
      ],
      "metadata": {
        "colab": {
          "base_uri": "https://localhost:8080/"
        },
        "id": "_koZb2I37JGa",
        "outputId": "0c752cec-f2d4-4e9e-8ebd-220921dcf283"
      },
      "execution_count": null,
      "outputs": [
        {
          "output_type": "execute_result",
          "data": {
            "text/plain": [
              "1"
            ]
          },
          "metadata": {},
          "execution_count": 60
        }
      ]
    },
    {
      "cell_type": "code",
      "source": [
        "'my name is nitish'.find('is')"
      ],
      "metadata": {
        "colab": {
          "base_uri": "https://localhost:8080/"
        },
        "id": "w2ZSK7ff7Nr7",
        "outputId": "45ae0de4-79cd-449f-91b7-7bdfa67f78c4"
      },
      "execution_count": null,
      "outputs": [
        {
          "output_type": "execute_result",
          "data": {
            "text/plain": [
              "8"
            ]
          },
          "metadata": {},
          "execution_count": 61
        }
      ]
    },
    {
      "cell_type": "code",
      "source": [
        "'my name is nitish'.index('is')"
      ],
      "metadata": {
        "colab": {
          "base_uri": "https://localhost:8080/"
        },
        "id": "-NdyfNES7S3z",
        "outputId": "cb6fe5e6-808d-42d7-c1b7-04279690b48f"
      },
      "execution_count": null,
      "outputs": [
        {
          "output_type": "execute_result",
          "data": {
            "text/plain": [
              "8"
            ]
          },
          "metadata": {},
          "execution_count": 62
        }
      ]
    },
    {
      "cell_type": "code",
      "source": [
        "#but the diff between find and index is\n",
        "#index will throw error if the string doesn't exist and find will throw -1"
      ],
      "metadata": {
        "id": "43y8Yyit7fsD"
      },
      "execution_count": null,
      "outputs": []
    },
    {
      "cell_type": "markdown",
      "source": [
        "# endswith/startswith"
      ],
      "metadata": {
        "id": "hGBiVe7fWniu"
      }
    },
    {
      "cell_type": "code",
      "source": [
        "string = 'hey this is mahin sikder'\n",
        "string.endswith('er')\n",
        "string.startswith('ey')"
      ],
      "metadata": {
        "colab": {
          "base_uri": "https://localhost:8080/"
        },
        "id": "pWLpZcoZWtz6",
        "outputId": "ae1a0a96-c32b-4343-ba3a-fc5bdcfe0821"
      },
      "execution_count": null,
      "outputs": [
        {
          "output_type": "execute_result",
          "data": {
            "text/plain": [
              "False"
            ]
          },
          "metadata": {},
          "execution_count": 3
        }
      ]
    },
    {
      "cell_type": "markdown",
      "source": [
        "# Format"
      ],
      "metadata": {
        "id": "pAXNA_MadDdR"
      }
    },
    {
      "cell_type": "code",
      "source": [
        "name = 'arian'\n",
        "gender = 'male'\n",
        "\n",
        "'Hi this is {0} and he is {1}'.format(name,gender)"
      ],
      "metadata": {
        "colab": {
          "base_uri": "https://localhost:8080/"
        },
        "id": "A3GBfpCcdE1P",
        "outputId": "6b073ee5-1502-49b6-e264-830c237e3c5e"
      },
      "execution_count": null,
      "outputs": [
        {
          "output_type": "execute_result",
          "data": {
            "text/plain": [
              "'Hi this is arian and he is male'"
            ],
            "application/vnd.google.colaboratory.intrinsic+json": {
              "type": "string"
            }
          },
          "metadata": {},
          "execution_count": 8
        }
      ]
    },
    {
      "cell_type": "markdown",
      "source": [
        "# isalnum/isalpha/isdigit/isidentifier"
      ],
      "metadata": {
        "id": "NgSaiONyeCAO"
      }
    },
    {
      "cell_type": "code",
      "source": [
        "# isalnum determines if your string is alphabetic + numeric\n",
        "'mahin1234'.isalnum()"
      ],
      "metadata": {
        "colab": {
          "base_uri": "https://localhost:8080/"
        },
        "id": "fVqA0egjeHc1",
        "outputId": "b81ea993-6573-45e7-a4bf-795e05fe8431"
      },
      "execution_count": null,
      "outputs": [
        {
          "output_type": "execute_result",
          "data": {
            "text/plain": [
              "True"
            ]
          },
          "metadata": {},
          "execution_count": 9
        }
      ]
    },
    {
      "cell_type": "code",
      "source": [
        "#isalpha determines if your string is whole alphabetic\n",
        "'mahin1234'.isalpha()"
      ],
      "metadata": {
        "colab": {
          "base_uri": "https://localhost:8080/"
        },
        "id": "WWnMs1rgeaNX",
        "outputId": "56931b5a-f090-4df4-d4ab-db1c35440429"
      },
      "execution_count": null,
      "outputs": [
        {
          "output_type": "execute_result",
          "data": {
            "text/plain": [
              "False"
            ]
          },
          "metadata": {},
          "execution_count": 10
        }
      ]
    },
    {
      "cell_type": "code",
      "source": [
        "#isdigit determines if your string made of digits\n",
        "'mahin1234'.isdigit()"
      ],
      "metadata": {
        "colab": {
          "base_uri": "https://localhost:8080/"
        },
        "id": "dxh_WL6pe0Hf",
        "outputId": "a2c5cc1f-e0e2-4cd6-8ea6-65737d302114"
      },
      "execution_count": null,
      "outputs": [
        {
          "output_type": "execute_result",
          "data": {
            "text/plain": [
              "False"
            ]
          },
          "metadata": {},
          "execution_count": 12
        }
      ]
    },
    {
      "cell_type": "code",
      "source": [
        "#isidentifier determines if this is an identifier or not\n",
        "'1name'.isidentifier()"
      ],
      "metadata": {
        "colab": {
          "base_uri": "https://localhost:8080/"
        },
        "id": "dJNok0y5e6ff",
        "outputId": "0e3c15c4-aea8-49ed-9944-430d7a24ee61"
      },
      "execution_count": null,
      "outputs": [
        {
          "output_type": "execute_result",
          "data": {
            "text/plain": [
              "False"
            ]
          },
          "metadata": {},
          "execution_count": 14
        }
      ]
    },
    {
      "cell_type": "markdown",
      "source": [
        "# Split/Join"
      ],
      "metadata": {
        "id": "sA6ie6cbfO9A"
      }
    },
    {
      "cell_type": "code",
      "source": [
        "#Split breaks a sentence word by word and add it into a python list\n",
        "'hi my name is arian mahin sikder'.split()"
      ],
      "metadata": {
        "colab": {
          "base_uri": "https://localhost:8080/"
        },
        "id": "Nh-ud3e5fQ9O",
        "outputId": "3c62603b-316b-443c-dc6d-69a61500dbb0"
      },
      "execution_count": null,
      "outputs": [
        {
          "output_type": "execute_result",
          "data": {
            "text/plain": [
              "['hi', 'my', 'name', 'is', 'arian', 'mahin', 'sikder']"
            ]
          },
          "metadata": {},
          "execution_count": 16
        }
      ]
    },
    {
      "cell_type": "code",
      "source": [
        "#Also can be split it into something\n",
        "'hi my name is arian mahin sikder'.split('i')"
      ],
      "metadata": {
        "colab": {
          "base_uri": "https://localhost:8080/"
        },
        "id": "em9J1HZcfhv-",
        "outputId": "03332396-428d-4550-93ca-f95e1a12e132"
      },
      "execution_count": null,
      "outputs": [
        {
          "output_type": "execute_result",
          "data": {
            "text/plain": [
              "['h', ' my name ', 's ar', 'an mah', 'n s', 'kder']"
            ]
          },
          "metadata": {},
          "execution_count": 17
        }
      ]
    },
    {
      "cell_type": "code",
      "source": [
        "#Join does is it joins the strings\n",
        "\" \".join(['hi', 'my', 'name', 'is', 'arian', 'mahin', 'sikder'])"
      ],
      "metadata": {
        "colab": {
          "base_uri": "https://localhost:8080/"
        },
        "id": "q0q9vJWegJT2",
        "outputId": "c542a60f-b75a-4eb5-d4dc-b0c5ee05ad95"
      },
      "execution_count": null,
      "outputs": [
        {
          "output_type": "execute_result",
          "data": {
            "text/plain": [
              "'hi my name is arian mahin sikder'"
            ],
            "application/vnd.google.colaboratory.intrinsic+json": {
              "type": "string"
            }
          },
          "metadata": {},
          "execution_count": 20
        }
      ]
    },
    {
      "cell_type": "code",
      "source": [
        "#If i use \" - \" instead of space(\" \") then the join would be on the basis of Hyphen\n",
        "\" - \".join(['hi', 'my', 'name', 'is', 'arian', 'mahin', 'sikder'])"
      ],
      "metadata": {
        "colab": {
          "base_uri": "https://localhost:8080/"
        },
        "id": "chP4xqcQgelO",
        "outputId": "0bee787b-d78e-4cb3-d81a-5ab5a682f1b0"
      },
      "execution_count": null,
      "outputs": [
        {
          "output_type": "execute_result",
          "data": {
            "text/plain": [
              "'hi - my - name - is - arian - mahin - sikder'"
            ],
            "application/vnd.google.colaboratory.intrinsic+json": {
              "type": "string"
            }
          },
          "metadata": {},
          "execution_count": 21
        }
      ]
    },
    {
      "cell_type": "code",
      "source": [
        "#So as i've splitted it by i before so i'm joining it on the basis of 'i'\n",
        "\"i\".join(['h', ' my name ', 's ar', 'an mah', 'n s', 'kder'])"
      ],
      "metadata": {
        "colab": {
          "base_uri": "https://localhost:8080/"
        },
        "id": "-aDOzSRHgx59",
        "outputId": "7867fed3-fae9-446d-b48a-814a412cd9f3"
      },
      "execution_count": null,
      "outputs": [
        {
          "output_type": "execute_result",
          "data": {
            "text/plain": [
              "'hi my name is arian mahin sikder'"
            ],
            "application/vnd.google.colaboratory.intrinsic+json": {
              "type": "string"
            }
          },
          "metadata": {},
          "execution_count": 23
        }
      ]
    },
    {
      "cell_type": "markdown",
      "source": [
        "# Replace"
      ],
      "metadata": {
        "id": "Gd12nVkdhAwh"
      }
    },
    {
      "cell_type": "code",
      "source": [
        "'hi my name is arian'.replace('arian','mahin')"
      ],
      "metadata": {
        "colab": {
          "base_uri": "https://localhost:8080/"
        },
        "id": "qNa8hTe2hCTV",
        "outputId": "f2213b68-4948-452d-e1f1-acf7ae54ae88"
      },
      "execution_count": null,
      "outputs": [
        {
          "output_type": "execute_result",
          "data": {
            "text/plain": [
              "'hi my name is mahin'"
            ],
            "application/vnd.google.colaboratory.intrinsic+json": {
              "type": "string"
            }
          },
          "metadata": {},
          "execution_count": 25
        }
      ]
    },
    {
      "cell_type": "markdown",
      "source": [
        "# Strip"
      ],
      "metadata": {
        "id": "9np5VuPvhNXs"
      }
    },
    {
      "cell_type": "code",
      "source": [
        "#It is very useful and important\n",
        "#Strip eliminates the trailing spaces\n",
        "s ='Arian                                '"
      ],
      "metadata": {
        "id": "heJOPBUdhQft"
      },
      "execution_count": null,
      "outputs": []
    },
    {
      "cell_type": "code",
      "source": [
        "print(s)\n",
        "len(s)"
      ],
      "metadata": {
        "colab": {
          "base_uri": "https://localhost:8080/"
        },
        "id": "sR-sTmAVh12l",
        "outputId": "715b21a7-9b87-4c72-e2df-fcd31e3ffd95"
      },
      "execution_count": null,
      "outputs": [
        {
          "output_type": "stream",
          "name": "stdout",
          "text": [
            "Arian                                \n"
          ]
        },
        {
          "output_type": "execute_result",
          "data": {
            "text/plain": [
              "37"
            ]
          },
          "metadata": {},
          "execution_count": 30
        }
      ]
    },
    {
      "cell_type": "code",
      "source": [
        "a = s.strip()"
      ],
      "metadata": {
        "id": "SKoSBNLdh3ZN"
      },
      "execution_count": null,
      "outputs": []
    },
    {
      "cell_type": "code",
      "source": [
        "len(a)"
      ],
      "metadata": {
        "colab": {
          "base_uri": "https://localhost:8080/"
        },
        "id": "TA0tDqzch5t1",
        "outputId": "2582b41f-b46e-4ed9-dc8a-a29c3dfff3f8"
      },
      "execution_count": null,
      "outputs": [
        {
          "output_type": "execute_result",
          "data": {
            "text/plain": [
              "5"
            ]
          },
          "metadata": {},
          "execution_count": 33
        }
      ]
    },
    {
      "cell_type": "markdown",
      "source": [
        "# Problems on Strings"
      ],
      "metadata": {
        "id": "Nx1l8ahcljzy"
      }
    },
    {
      "cell_type": "code",
      "source": [
        "#Find the length of a given string without using the len() function\n",
        "\n",
        "string = input('Enter a string')\n",
        "count = 0\n",
        "for i in string:\n",
        "  count+=1\n",
        "print(count)"
      ],
      "metadata": {
        "colab": {
          "base_uri": "https://localhost:8080/"
        },
        "id": "1KJHCYShlnUL",
        "outputId": "332dcff8-e296-4306-fa75-4d56a3deafef"
      },
      "execution_count": null,
      "outputs": [
        {
          "output_type": "stream",
          "name": "stdout",
          "text": [
            "Enter a stringhey\n",
            "3\n"
          ]
        }
      ]
    },
    {
      "cell_type": "code",
      "source": [
        "# Extract username froma  given email\n",
        "\n",
        "# Way 1:\n",
        "email1 = input('Enter the email')\n",
        "for i in email1:\n",
        "  if(i == '@'):\n",
        "    break\n",
        "  print(i,end='')\n",
        "\n",
        "# Way 2:\n",
        "email2 = input('Enter the email')\n",
        "index = email2.index('@')\n",
        "username = email2[0:index]\n",
        "print(username)"
      ],
      "metadata": {
        "colab": {
          "base_uri": "https://localhost:8080/"
        },
        "id": "X_gitJLSm3Z7",
        "outputId": "bf0500ac-cd73-4050-bfd4-005842fcccf4"
      },
      "execution_count": null,
      "outputs": [
        {
          "output_type": "stream",
          "name": "stdout",
          "text": [
            "Enter the emailme.arian@gmail.com\n",
            "me.arianEnter the emailme.arian@gmail.com\n",
            "me.arian\n"
          ]
        }
      ]
    },
    {
      "cell_type": "code",
      "source": [
        "# Count the frequency of a particular character in a provided string\n",
        "string = input('Enter the string')\n",
        "term = input('Enter the term')\n",
        "count = 0\n",
        "for i in string:\n",
        "  if(i == term):\n",
        "    count+=1\n",
        "print(count)"
      ],
      "metadata": {
        "colab": {
          "base_uri": "https://localhost:8080/"
        },
        "id": "9bALP1IipQ0y",
        "outputId": "5ea1ec71-083f-4794-8258-f9bba50eb478"
      },
      "execution_count": null,
      "outputs": [
        {
          "output_type": "stream",
          "name": "stdout",
          "text": [
            "Enter the stringarianmahinsikder\n",
            "Enter the termi\n",
            "3\n"
          ]
        }
      ]
    },
    {
      "cell_type": "code",
      "source": [
        "# Remove a particular character from a string\n",
        "\n",
        "string = input('Enter the string')\n",
        "char = input('What would you like to remove')\n",
        "st = ' '\n",
        "for i in string:\n",
        "  if i == char:\n",
        "    continue\n",
        "  else:\n",
        "    st = st+ i\n",
        "print(st)"
      ],
      "metadata": {
        "colab": {
          "base_uri": "https://localhost:8080/"
        },
        "id": "ZooQ1Ln-qora",
        "outputId": "ccde5687-efeb-4050-aca2-59605f2edac1"
      },
      "execution_count": null,
      "outputs": [
        {
          "output_type": "stream",
          "name": "stdout",
          "text": [
            "Enter the stringmahin\n",
            "What would you like to removei\n",
            " mahn\n"
          ]
        }
      ]
    },
    {
      "cell_type": "code",
      "source": [
        "# Write a program that check whether a given string is palindrome or not\n",
        "count = False\n",
        "string = input('Enter the string')\n",
        "for i in range(0,len(string)//2):\n",
        "    if string[i] != string[len(string)-i-1]:\n",
        "      count = True\n",
        "      break\n",
        "\n",
        "if count == True:\n",
        "  print('Not Palindrome')\n",
        "else:\n",
        "  print('Palindrome')"
      ],
      "metadata": {
        "colab": {
          "base_uri": "https://localhost:8080/"
        },
        "id": "bICt3k41uL-n",
        "outputId": "bcf388f6-68e2-468e-b969-e8d2b008eb66"
      },
      "execution_count": null,
      "outputs": [
        {
          "output_type": "stream",
          "name": "stdout",
          "text": [
            "Enter the stringabba\n",
            "Palindrome\n"
          ]
        }
      ]
    },
    {
      "cell_type": "code",
      "source": [
        "#Write a program to count the number of words in a string without split()\n",
        "count = 1\n",
        "string = input('Enter a string')\n",
        "for i in string:\n",
        "  if i == ' ':\n",
        "    count += 1\n",
        "print(count)"
      ],
      "metadata": {
        "colab": {
          "base_uri": "https://localhost:8080/"
        },
        "id": "QOlUQoLqwh0Q",
        "outputId": "58c0a15f-f2dc-4dcd-8a18-5acbe21e0f08"
      },
      "execution_count": null,
      "outputs": [
        {
          "output_type": "stream",
          "name": "stdout",
          "text": [
            "Enter a stringarian mahin sikder\n",
            "3\n"
          ]
        }
      ]
    },
    {
      "cell_type": "code",
      "source": [
        "#Convert a string to title case without using the title()"
      ],
      "metadata": {
        "id": "TURprGKy2QKQ"
      },
      "execution_count": null,
      "outputs": []
    },
    {
      "cell_type": "code",
      "source": [
        "# Convert integer to string"
      ],
      "metadata": {
        "id": "JC0vvAyn38K5"
      },
      "execution_count": null,
      "outputs": []
    },
    {
      "cell_type": "code",
      "source": [],
      "metadata": {
        "id": "qUDkNNdb3_-0"
      },
      "execution_count": null,
      "outputs": []
    }
  ]
}