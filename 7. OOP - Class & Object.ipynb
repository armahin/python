{
  "nbformat": 4,
  "nbformat_minor": 0,
  "metadata": {
    "colab": {
      "provenance": [],
      "authorship_tag": "ABX9TyNHXO417qzS8S4eVX1fkoLU",
      "include_colab_link": true
    },
    "kernelspec": {
      "name": "python3",
      "display_name": "Python 3"
    },
    "language_info": {
      "name": "python"
    }
  },
  "cells": [
    {
      "cell_type": "markdown",
      "metadata": {
        "id": "view-in-github",
        "colab_type": "text"
      },
      "source": [
        "<a href=\"https://colab.research.google.com/github/armahin/python/blob/main/7.%20OOP%20-%20Class%20%26%20Object.ipynb\" target=\"_parent\"><img src=\"https://colab.research.google.com/assets/colab-badge.svg\" alt=\"Open In Colab\"/></a>"
      ]
    },
    {
      "cell_type": "code",
      "execution_count": null,
      "metadata": {
        "colab": {
          "base_uri": "https://localhost:8080/",
          "height": 159
        },
        "id": "7jpdBzQapn70",
        "outputId": "24dfd91c-a162-465d-e506-b8cb9614f127"
      },
      "outputs": [
        {
          "output_type": "error",
          "ename": "NameError",
          "evalue": "name 'l' is not defined",
          "traceback": [
            "\u001b[0;31m---------------------------------------------------------------------------\u001b[0m",
            "\u001b[0;31mNameError\u001b[0m                                 Traceback (most recent call last)",
            "\u001b[0;32m<ipython-input-1-846a052f4329>\u001b[0m in \u001b[0;36m<cell line: 2>\u001b[0;34m()\u001b[0m\n\u001b[1;32m      1\u001b[0m \u001b[0mL\u001b[0m  \u001b[0;34m=\u001b[0m \u001b[0;34m[\u001b[0m\u001b[0;36m1\u001b[0m\u001b[0;34m,\u001b[0m\u001b[0;36m2\u001b[0m\u001b[0;34m,\u001b[0m\u001b[0;36m3\u001b[0m\u001b[0;34m]\u001b[0m\u001b[0;34m\u001b[0m\u001b[0;34m\u001b[0m\u001b[0m\n\u001b[0;32m----> 2\u001b[0;31m \u001b[0ml\u001b[0m\u001b[0;34m.\u001b[0m\u001b[0mupper\u001b[0m\u001b[0;34m(\u001b[0m\u001b[0;34m)\u001b[0m\u001b[0;34m\u001b[0m\u001b[0;34m\u001b[0m\u001b[0m\n\u001b[0m",
            "\u001b[0;31mNameError\u001b[0m: name 'l' is not defined"
          ]
        }
      ],
      "source": [
        "L  = [1,2,3]\n",
        "l.upper()"
      ]
    },
    {
      "cell_type": "code",
      "source": [
        "# Error is thrown because there's not upper function of list"
      ],
      "metadata": {
        "id": "xhRF3wud0fQU"
      },
      "execution_count": 42,
      "outputs": []
    },
    {
      "cell_type": "code",
      "source": [
        "s = 'hello'\n",
        "s.append('x')"
      ],
      "metadata": {
        "colab": {
          "base_uri": "https://localhost:8080/",
          "height": 159
        },
        "id": "h2ozUUoH0kzz",
        "outputId": "b032c5f9-1c97-4df2-d4d7-33c7948d3e97"
      },
      "execution_count": null,
      "outputs": [
        {
          "output_type": "error",
          "ename": "AttributeError",
          "evalue": "'str' object has no attribute 'append'",
          "traceback": [
            "\u001b[0;31m---------------------------------------------------------------------------\u001b[0m",
            "\u001b[0;31mAttributeError\u001b[0m                            Traceback (most recent call last)",
            "\u001b[0;32m<ipython-input-3-2cb7c5babec0>\u001b[0m in \u001b[0;36m<cell line: 2>\u001b[0;34m()\u001b[0m\n\u001b[1;32m      1\u001b[0m \u001b[0ms\u001b[0m \u001b[0;34m=\u001b[0m \u001b[0;34m'hello'\u001b[0m\u001b[0;34m\u001b[0m\u001b[0;34m\u001b[0m\u001b[0m\n\u001b[0;32m----> 2\u001b[0;31m \u001b[0ms\u001b[0m\u001b[0;34m.\u001b[0m\u001b[0mappend\u001b[0m\u001b[0;34m(\u001b[0m\u001b[0;34m'x'\u001b[0m\u001b[0;34m)\u001b[0m\u001b[0;34m\u001b[0m\u001b[0;34m\u001b[0m\u001b[0m\n\u001b[0m",
            "\u001b[0;31mAttributeError\u001b[0m: 'str' object has no attribute 'append'"
          ]
        }
      ]
    },
    {
      "cell_type": "code",
      "source": [
        "# From these error it can be seen that, python treats list and string as object\n",
        "#and will see shortly after that python treats everything as an object."
      ],
      "metadata": {
        "id": "Bgym9Gn90ntr"
      },
      "execution_count": 43,
      "outputs": []
    },
    {
      "cell_type": "code",
      "source": [
        "#Everything in Python is an Object"
      ],
      "metadata": {
        "id": "j_dSCwny03sL"
      },
      "execution_count": null,
      "outputs": []
    },
    {
      "cell_type": "markdown",
      "source": [
        "# **So what is an Object**"
      ],
      "metadata": {
        "id": "1WfFo7z8084K"
      }
    },
    {
      "cell_type": "code",
      "source": [
        "# OOP gives power to create own data types"
      ],
      "metadata": {
        "id": "KpfSI0zo1A0L"
      },
      "execution_count": null,
      "outputs": []
    },
    {
      "cell_type": "code",
      "source": [
        "#OOP Consists of 6 principles\n",
        "# Object\n",
        "# Class\n",
        "# Polymorphism\n",
        "# Encapsulation\n",
        "# Inheritance\n",
        "# Abstraction"
      ],
      "metadata": {
        "id": "di3YSR1k5HZ7"
      },
      "execution_count": null,
      "outputs": []
    },
    {
      "cell_type": "markdown",
      "source": [
        "# **Class**"
      ],
      "metadata": {
        "id": "35PON_1h5lD3"
      }
    },
    {
      "cell_type": "code",
      "source": [
        "L = [1,2,3]\n",
        "print(type(L))"
      ],
      "metadata": {
        "colab": {
          "base_uri": "https://localhost:8080/"
        },
        "id": "_bxpWh3q5k0H",
        "outputId": "21c264b1-1e3e-480c-f7c1-4f3722797553"
      },
      "execution_count": null,
      "outputs": [
        {
          "output_type": "stream",
          "name": "stdout",
          "text": [
            "<class 'list'>\n"
          ]
        }
      ]
    },
    {
      "cell_type": "code",
      "source": [
        "L.upper()"
      ],
      "metadata": {
        "colab": {
          "base_uri": "https://localhost:8080/",
          "height": 141
        },
        "id": "oJVkqgO-5kbT",
        "outputId": "8574f799-2978-4aae-e376-bdb1f5942951"
      },
      "execution_count": null,
      "outputs": [
        {
          "output_type": "error",
          "ename": "AttributeError",
          "evalue": "'list' object has no attribute 'upper'",
          "traceback": [
            "\u001b[0;31m---------------------------------------------------------------------------\u001b[0m",
            "\u001b[0;31mAttributeError\u001b[0m                            Traceback (most recent call last)",
            "\u001b[0;32m<ipython-input-8-23af83e72fe0>\u001b[0m in \u001b[0;36m<cell line: 1>\u001b[0;34m()\u001b[0m\n\u001b[0;32m----> 1\u001b[0;31m \u001b[0mL\u001b[0m\u001b[0;34m.\u001b[0m\u001b[0mupper\u001b[0m\u001b[0;34m(\u001b[0m\u001b[0;34m)\u001b[0m\u001b[0;34m\u001b[0m\u001b[0;34m\u001b[0m\u001b[0m\n\u001b[0m",
            "\u001b[0;31mAttributeError\u001b[0m: 'list' object has no attribute 'upper'"
          ]
        }
      ]
    },
    {
      "cell_type": "markdown",
      "source": [
        "We can see that the List is as the same time class and object\n",
        "So which one is an object and which one is a class?"
      ],
      "metadata": {
        "id": "37iPIGaX52ct"
      }
    },
    {
      "cell_type": "markdown",
      "source": [
        "**Python e int float list tuple dictionary ja ja data type porsi shob ke python bole class and oi class diye jodi varible banano hoy tahole oi varible ke bole object . For and example**\n",
        "\n",
        "*   **List hocche class**\n",
        "*   **L hocche object**\n",
        "\n"
      ],
      "metadata": {
        "id": "_UyI86zb6OAf"
      }
    },
    {
      "cell_type": "markdown",
      "source": [
        "So class is a blueprint or a set of rules which defines, how the objects will behave of that class"
      ],
      "metadata": {
        "id": "OUXYk2tw6uvx"
      }
    },
    {
      "cell_type": "markdown",
      "source": [
        "Class (set of rules) ekhane ki likha hoy:\n",
        "1. Data or Property\n",
        "2. Functions or Behavior"
      ],
      "metadata": {
        "id": "R1Xevev87tFf"
      }
    },
    {
      "cell_type": "code",
      "source": [
        "# Syntax to create an object\n",
        "# objectname = classname()"
      ],
      "metadata": {
        "id": "kgOmD6Ct6uMQ"
      },
      "execution_count": null,
      "outputs": []
    },
    {
      "cell_type": "code",
      "source": [
        "L = list()\n",
        "#but amra to amne banaina\n",
        "L = [1,2,3,4] #amne banai\n",
        "# Python object literal diye etake easy kore dise"
      ],
      "metadata": {
        "id": "9d-jYM2m5w0h"
      },
      "execution_count": null,
      "outputs": []
    },
    {
      "cell_type": "code",
      "source": [
        "class Atm:\n",
        "  #constructor : is basically a function inside a class. It is a special function cause it\n",
        "  # has a superpower which is ei function er moddhe je code eke execute korte ei function ke call kora lagena\n",
        "\n",
        "  def __init__(self):\n",
        "    self.pin = ''\n",
        "    self.balance =''\n",
        "    print(\" I've been executed without being called \")\n",
        "    self.menu()\n",
        "    print(id(self))\n",
        "\n",
        "  def menu(self):\n",
        "    user_input = input(\"\"\"\n",
        "    Hi how can i help you?\n",
        "    1. Press 1 to create pin\n",
        "    2. Press 2 to change pin\n",
        "    3. Press 3 to check balance\n",
        "    4. Press 4 to withdraw\n",
        "    5. Anything else to exit\n",
        "    \"\"\")\n",
        "    if user_input == '1':\n",
        "      #Create pin\n",
        "      self.create_pin()\n",
        "    elif user_input == '2':\n",
        "      #Change pin\n",
        "      self.change_pin()\n",
        "    elif user_input == '3':\n",
        "      #Check Balance\n",
        "      self.check_balance()\n",
        "    elif user_input == '4':\n",
        "      #Withdraw\n",
        "      self.withdraw()\n",
        "    else:\n",
        "      #Exit\n",
        "      pass\n",
        "  def create_pin(self):\n",
        "    user_pin = int(input('Enter Your Pin'))\n",
        "    self.pin = user_pin\n",
        "    user_balance = int(input('Enter Balance'))\n",
        "    self.balance = user_balance\n",
        "    print('Pin Created Successfully')\n",
        "    self.menu()\n",
        "\n",
        "  def change_pin(self):\n",
        "    old_pin = int(input('Enter Your Old Pin'))\n",
        "    if old_pin == self.pin:\n",
        "      new_pin = int(input('Enter Your New Pin'))\n",
        "      self.pin = new_pin\n",
        "      print('Pin Changed Successfully')\n",
        "      self.menu()\n",
        "    else:\n",
        "      print('Sorry')\n",
        "      self.menu()\n",
        "  def check_balance(self):\n",
        "    pin = int(input('Enter Your Pin'))\n",
        "    if pin == self.pin:\n",
        "      print('Balance is ',self.balance)\n",
        "      self.menu()\n",
        "    else:\n",
        "      print('Wrong Pin')\n",
        "      self.menu()\n",
        "  def withdraw(self):\n",
        "    pin = int(input('Enter Your Pin'))\n",
        "    if pin == self.pin:\n",
        "      #Withdraw Balance\n",
        "      wit_bal = int(input('How much you wanna withdraw? '))\n",
        "      if wit_bal <= self.balance:\n",
        "        self.balance = self.balance - wit_bal\n",
        "        print('Withdrawn Successfully','Balance is ',self.balance)\n",
        "\n",
        "      else:\n",
        "        print('Money Outreached')\n",
        "\n",
        "    else:\n",
        "      print('Wrong Pin')\n",
        "    self.menu()\n",
        "\n",
        "\n",
        "\n",
        "\n",
        "\n",
        "\n",
        "\n",
        "\n",
        "\n",
        "\n",
        "\n",
        "\n",
        "\n",
        "\n",
        "\n",
        "\n"
      ],
      "metadata": {
        "id": "UDwWBcIg82Kh"
      },
      "execution_count": 2,
      "outputs": []
    },
    {
      "cell_type": "code",
      "source": [
        "obj = Atm()"
      ],
      "metadata": {
        "colab": {
          "base_uri": "https://localhost:8080/",
          "height": 321
        },
        "id": "2RXNA6229X25",
        "outputId": "8ddfc573-37ef-4915-e1b5-81cceed09638"
      },
      "execution_count": 3,
      "outputs": [
        {
          "output_type": "stream",
          "name": "stdout",
          "text": [
            " I've been executed without being called \n"
          ]
        },
        {
          "output_type": "error",
          "ename": "KeyboardInterrupt",
          "evalue": "Interrupted by user",
          "traceback": [
            "\u001b[0;31m---------------------------------------------------------------------------\u001b[0m",
            "\u001b[0;31mKeyboardInterrupt\u001b[0m                         Traceback (most recent call last)",
            "\u001b[0;32m<ipython-input-3-f58a19b5e7a4>\u001b[0m in \u001b[0;36m<cell line: 1>\u001b[0;34m()\u001b[0m\n\u001b[0;32m----> 1\u001b[0;31m \u001b[0mobj\u001b[0m \u001b[0;34m=\u001b[0m \u001b[0mAtm\u001b[0m\u001b[0;34m(\u001b[0m\u001b[0;34m)\u001b[0m\u001b[0;34m\u001b[0m\u001b[0;34m\u001b[0m\u001b[0m\n\u001b[0m",
            "\u001b[0;32m<ipython-input-2-b1145429fb49>\u001b[0m in \u001b[0;36m__init__\u001b[0;34m(self)\u001b[0m\n\u001b[1;32m      7\u001b[0m     \u001b[0mself\u001b[0m\u001b[0;34m.\u001b[0m\u001b[0mbalance\u001b[0m \u001b[0;34m=\u001b[0m\u001b[0;34m''\u001b[0m\u001b[0;34m\u001b[0m\u001b[0;34m\u001b[0m\u001b[0m\n\u001b[1;32m      8\u001b[0m     \u001b[0mprint\u001b[0m\u001b[0;34m(\u001b[0m\u001b[0;34m\" I've been executed without being called \"\u001b[0m\u001b[0;34m)\u001b[0m\u001b[0;34m\u001b[0m\u001b[0;34m\u001b[0m\u001b[0m\n\u001b[0;32m----> 9\u001b[0;31m     \u001b[0mself\u001b[0m\u001b[0;34m.\u001b[0m\u001b[0mmenu\u001b[0m\u001b[0;34m(\u001b[0m\u001b[0;34m)\u001b[0m\u001b[0;34m\u001b[0m\u001b[0;34m\u001b[0m\u001b[0m\n\u001b[0m\u001b[1;32m     10\u001b[0m     \u001b[0mprint\u001b[0m\u001b[0;34m(\u001b[0m\u001b[0mid\u001b[0m\u001b[0;34m(\u001b[0m\u001b[0mself\u001b[0m\u001b[0;34m)\u001b[0m\u001b[0;34m)\u001b[0m\u001b[0;34m\u001b[0m\u001b[0;34m\u001b[0m\u001b[0m\n\u001b[1;32m     11\u001b[0m \u001b[0;34m\u001b[0m\u001b[0m\n",
            "\u001b[0;32m<ipython-input-2-b1145429fb49>\u001b[0m in \u001b[0;36mmenu\u001b[0;34m(self)\u001b[0m\n\u001b[1;32m     11\u001b[0m \u001b[0;34m\u001b[0m\u001b[0m\n\u001b[1;32m     12\u001b[0m   \u001b[0;32mdef\u001b[0m \u001b[0mmenu\u001b[0m\u001b[0;34m(\u001b[0m\u001b[0mself\u001b[0m\u001b[0;34m)\u001b[0m\u001b[0;34m:\u001b[0m\u001b[0;34m\u001b[0m\u001b[0;34m\u001b[0m\u001b[0m\n\u001b[0;32m---> 13\u001b[0;31m     user_input = input(\"\"\"\n\u001b[0m\u001b[1;32m     14\u001b[0m     \u001b[0mHi\u001b[0m \u001b[0mhow\u001b[0m \u001b[0mcan\u001b[0m \u001b[0mi\u001b[0m \u001b[0mhelp\u001b[0m \u001b[0myou\u001b[0m\u001b[0;31m?\u001b[0m\u001b[0;34m\u001b[0m\u001b[0;34m\u001b[0m\u001b[0m\n\u001b[1;32m     15\u001b[0m     \u001b[0;36m1.\u001b[0m \u001b[0mPress\u001b[0m \u001b[0;36m1\u001b[0m \u001b[0mto\u001b[0m \u001b[0mcreate\u001b[0m \u001b[0mpin\u001b[0m\u001b[0;34m\u001b[0m\u001b[0;34m\u001b[0m\u001b[0m\n",
            "\u001b[0;32m/usr/local/lib/python3.10/dist-packages/ipykernel/kernelbase.py\u001b[0m in \u001b[0;36mraw_input\u001b[0;34m(self, prompt)\u001b[0m\n\u001b[1;32m    849\u001b[0m                 \u001b[0;34m\"raw_input was called, but this frontend does not support input requests.\"\u001b[0m\u001b[0;34m\u001b[0m\u001b[0;34m\u001b[0m\u001b[0m\n\u001b[1;32m    850\u001b[0m             )\n\u001b[0;32m--> 851\u001b[0;31m         return self._input_request(str(prompt),\n\u001b[0m\u001b[1;32m    852\u001b[0m             \u001b[0mself\u001b[0m\u001b[0;34m.\u001b[0m\u001b[0m_parent_ident\u001b[0m\u001b[0;34m,\u001b[0m\u001b[0;34m\u001b[0m\u001b[0;34m\u001b[0m\u001b[0m\n\u001b[1;32m    853\u001b[0m             \u001b[0mself\u001b[0m\u001b[0;34m.\u001b[0m\u001b[0m_parent_header\u001b[0m\u001b[0;34m,\u001b[0m\u001b[0;34m\u001b[0m\u001b[0;34m\u001b[0m\u001b[0m\n",
            "\u001b[0;32m/usr/local/lib/python3.10/dist-packages/ipykernel/kernelbase.py\u001b[0m in \u001b[0;36m_input_request\u001b[0;34m(self, prompt, ident, parent, password)\u001b[0m\n\u001b[1;32m    893\u001b[0m             \u001b[0;32mexcept\u001b[0m \u001b[0mKeyboardInterrupt\u001b[0m\u001b[0;34m:\u001b[0m\u001b[0;34m\u001b[0m\u001b[0;34m\u001b[0m\u001b[0m\n\u001b[1;32m    894\u001b[0m                 \u001b[0;31m# re-raise KeyboardInterrupt, to truncate traceback\u001b[0m\u001b[0;34m\u001b[0m\u001b[0;34m\u001b[0m\u001b[0m\n\u001b[0;32m--> 895\u001b[0;31m                 \u001b[0;32mraise\u001b[0m \u001b[0mKeyboardInterrupt\u001b[0m\u001b[0;34m(\u001b[0m\u001b[0;34m\"Interrupted by user\"\u001b[0m\u001b[0;34m)\u001b[0m \u001b[0;32mfrom\u001b[0m \u001b[0;32mNone\u001b[0m\u001b[0;34m\u001b[0m\u001b[0;34m\u001b[0m\u001b[0m\n\u001b[0m\u001b[1;32m    896\u001b[0m             \u001b[0;32mexcept\u001b[0m \u001b[0mException\u001b[0m \u001b[0;32mas\u001b[0m \u001b[0me\u001b[0m\u001b[0;34m:\u001b[0m\u001b[0;34m\u001b[0m\u001b[0;34m\u001b[0m\u001b[0m\n\u001b[1;32m    897\u001b[0m                 \u001b[0mself\u001b[0m\u001b[0;34m.\u001b[0m\u001b[0mlog\u001b[0m\u001b[0;34m.\u001b[0m\u001b[0mwarning\u001b[0m\u001b[0;34m(\u001b[0m\u001b[0;34m\"Invalid Message:\"\u001b[0m\u001b[0;34m,\u001b[0m \u001b[0mexc_info\u001b[0m\u001b[0;34m=\u001b[0m\u001b[0;32mTrue\u001b[0m\u001b[0;34m)\u001b[0m\u001b[0;34m\u001b[0m\u001b[0;34m\u001b[0m\u001b[0m\n",
            "\u001b[0;31mKeyboardInterrupt\u001b[0m: Interrupted by user"
          ]
        }
      ]
    },
    {
      "cell_type": "code",
      "source": [
        "print(id(obj))"
      ],
      "metadata": {
        "colab": {
          "base_uri": "https://localhost:8080/"
        },
        "id": "2Zs83iMcpgHn",
        "outputId": "57757c09-8581-4240-db4d-7189558b42aa"
      },
      "execution_count": null,
      "outputs": [
        {
          "output_type": "stream",
          "name": "stdout",
          "text": [
            "135023128246304\n"
          ]
        }
      ]
    },
    {
      "cell_type": "markdown",
      "source": [
        "# **What is the difference between Functions and Methods**"
      ],
      "metadata": {
        "id": "ngi70JhiK_su"
      }
    },
    {
      "cell_type": "markdown",
      "source": [
        "Class er moddhe function banaile shetake ar function bolena method bole"
      ],
      "metadata": {
        "id": "3Smw2fBELGSs"
      }
    },
    {
      "cell_type": "code",
      "source": [
        "# Suppose a list\n",
        "L = [1,2,3,4]\n",
        "len(L) #Func cause it is outside the list class\n",
        "L.append(5) #Method cause it is inside the list class\n",
        "\n",
        "#Which one is the function and which one is the method?\n",
        "# Len is the func and append is the method"
      ],
      "metadata": {
        "id": "MT3KZt4q93_Z"
      },
      "execution_count": null,
      "outputs": []
    },
    {
      "cell_type": "markdown",
      "source": [
        "# **Class Diagram**\n",
        "![56.JPG](data:image/jpeg;base64,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)"
      ],
      "metadata": {
        "id": "96aH_ySSPs3G"
      }
    },
    {
      "cell_type": "markdown",
      "source": [
        "# **Magic Methods / Dunder Methods**"
      ],
      "metadata": {
        "id": "BLtLWnjoQXP5"
      }
    },
    {
      "cell_type": "markdown",
      "source": [
        "Magic Methods are special methods which has a **super power that we don't have to call it**.Magic Methods are written as `__name__`\n",
        "We have already seen constructor.\n",
        "And we will see 5 more.\n",
        "Pythons has hundreds of magic methods.\n",
        "And using this magic methods we can create our own data types.\n",
        "\n",
        "\n",
        "\n"
      ],
      "metadata": {
        "id": "GNeMWu0wQ4VL"
      }
    },
    {
      "cell_type": "markdown",
      "source": [
        "## **Constructor**"
      ],
      "metadata": {
        "id": "IfVejMKdTNZm"
      }
    },
    {
      "cell_type": "markdown",
      "source": [
        "**What is a constructor?**\n",
        "\n",
        "It's a method but it's a special method\n",
        "\n",
        "**Why special method?**\n",
        "\n",
        "Cause it doesn't have to be called.\n",
        "It gets triggered automatically as long as the object is made."
      ],
      "metadata": {
        "id": "r_tpKmItTTeK"
      }
    },
    {
      "cell_type": "markdown",
      "source": [
        "So suppose we have a class:"
      ],
      "metadata": {
        "id": "BWXYkx4cUzxm"
      }
    },
    {
      "cell_type": "code",
      "source": [
        "class Temp:\n",
        "  def __init__(self):\n",
        "    print('Hello')\n",
        "obj = Temp()"
      ],
      "metadata": {
        "colab": {
          "base_uri": "https://localhost:8080/"
        },
        "id": "W4N7KRTiQ2p1",
        "outputId": "383e05b0-be01-4c8d-d1f7-4713d0608b42"
      },
      "execution_count": null,
      "outputs": [
        {
          "output_type": "stream",
          "name": "stdout",
          "text": [
            "Hello\n"
          ]
        }
      ]
    },
    {
      "cell_type": "markdown",
      "source": [
        "Isn't this the superpower that the object is triggered automatically?\n",
        "\n",
        "But what now?\n",
        "\n",
        "What is the benefit of it?\n",
        "\n",
        "What ease did it make for me as a programmer?"
      ],
      "metadata": {
        "id": "8uBk8VmuU-fq"
      }
    },
    {
      "cell_type": "markdown",
      "source": [
        "\n",
        "In the example above, we made a constructor. It helps to set up the PIN and balance. Let's think about how the application will run. Someone goes to an ATM and sees a button. There's a button to create a PIN, check balance, change PIN, or withdraw money. The functions we made earlier can be thought of as buttons for the user. We only call these functions when the user wants. For example, when the user wants to withdraw, the withdraw function's code will run. When the user wants to check the balance, the balance check code will run. So, these functions control what happens regularly. They're under the user's control. But the constructor is different. It runs when the program starts or an object is created. So, things we don't want the user to control, like setting up automatically, we put in the constructor. We use constructors to set up configuration-related code. For example, if we need to connect our application to a database or backend service, we put that code in the constructor. So, if we write these code in the other functions, based on the ATM example, we will tell the customer that, \"Hey, press that button, and we'll connect to the database.\" That's is not how it works.\n",
        "\n",
        "In Bangla -\n",
        "\n",
        "উপরের উদাহরণে আমরা কনস্ট্রাক্টর বানিয়েছিলাম যেখানে পিনকে ইনিসিয়ালাইজ করেছিলাম এবং ব্যালেন্সকে। উপরের যে এপ্লিকেশনটা বানাইসি, আমরা একটু ভাবি যে ওটা রান কিভাবে হবে। একজন লোক এটিএমে ঢুকবে এবং ও বাটন দেখবে। একটা বাটন পিন তৈরি করার জন্য, একটা ব্যালেন্স, একটা চেঞ্জ, উইথড্রে জন্য। উপরে যা যা ফাংশন বানাইসি তা ব্যবহারকারীর পরিবেশে একটা বাটনের মতো ইমেজিন করতে পারি। কারণ আমরা এই ফাংশনগুলা তখনই কল করবো যখন ব্যবহারকারী চাবে। অর্থাৎ, মানুষ যখন চাবে তখন এই ফাংশনের কোড এক্সিকিউট হবে, কিন্তু কনস্ট্রাক্টর আলাদ, তার কন্ট্রোল কাস্টমারের কাছে নেই। তাই সে তখন এক্সিকিউট হবে যখন প্রোগ্রাম শুরু হবে বা অবজেক্ট তৈরি হবে। তাই, এমন কোন জিনিস যার নিয়ন্ত্রণ আমরা ব্যবহারকারীকে দিতে চাই না, তা অটোমেটিকভাবে হোক, সেটা আমরা কনস্ট্রাক্টরে দেব। কনস্ট্রাক্টর ব্যবহার করা হয় কনফিগারেশন সম্পর্কিত কোড লিখতে। অর্থাৎ, যদি আমার অ্যাপ্লিকেশনকে আমার ডাটাবেসের সাথে কানেক্ট করতে হয় বা আমার ব্যাকএন্ড সেবার সাথে কানেক্ট করতে হয়, তবে ওইটার কোড আমি কনস্ট্রাক্টরের মধ্যে দিব। অর্থাৎ, ধরো, যদি আমরা অন্য ফাংশন এই কোড লিখি, তাহলে উপরের এটিএমের উদাহরণ থেকে বলা যায় যে আমরা কাস্টমারকে বলছি, \"ভাই, ওই বাটনটা চাপ দেন আমরা ডাটাবেসে কানেক্ট করব।\""
      ],
      "metadata": {
        "id": "K1KJ5Ax9sSSD"
      }
    },
    {
      "cell_type": "markdown",
      "source": [
        "**Constructor is `__init__` and it cannot be changed in python**"
      ],
      "metadata": {
        "id": "q2zPZnPkFbmo"
      }
    },
    {
      "cell_type": "code",
      "source": [],
      "metadata": {
        "id": "-ci5kbAVU9d7"
      },
      "execution_count": null,
      "outputs": []
    },
    {
      "cell_type": "markdown",
      "source": [
        "## **Concept of `self`**"
      ],
      "metadata": {
        "id": "eTwZ0rOYF_hc"
      }
    },
    {
      "cell_type": "markdown",
      "source": [
        "উপরের এই কোডে যদি দেখি কোথায় কোথায় সেলফ আসছে তাহলে দেখবো যেঃ\n",
        "\n",
        "১। যে যে মেথড আমি বানাইসি সব মেথডে সেলফ হচ্ছে একটা ডিফল্ট প্যারামিটার\n",
        "\n",
        "২। কনস্ট্রাক্টরে যে যে ভ্যারিয়েবল বানিয়েছি তাদের আগে সেলফ লাগিয়ে তাদেরকে কল করছি\n",
        "\n",
        "৩। যখনই একটি মেথড কল করছি যেমন উপরের কোডে কনস্ট্রাক্টর মেনু কে কল করে, তখনও সেলফ লাগিয়ে কল করছি\n",
        "\n",
        "তো কি আসলে এই সেলফ?\n",
        "\n",
        "সেলফ কী, তা বোঝার আগে আমাদের জানতে হবে,\n",
        "\n",
        "What is the **Golden Rule** of OOP :\n",
        "\n",
        "আমরা জানি যে অবজেক্ট অরিয়েন্টেড প্রোগ্রামিং এ ২ ধরণের জিনিস থাকে, একটা হচ্ছে **Class** অন্যটি হলো **Object** ।\n",
        "\n",
        "**Class এ আমি সব Rule তৈরি করি যেগুলোকে Object অনুসরণ করে।**\n",
        "\n",
        "Rules এ আমি ২ টা জিনিস বানাই,\n",
        "\n",
        "হয়, আমি **ভেরিয়েবলগুলি অথবা অ্যাট্রিবিউট Add** করি,\n",
        "\n",
        "যেমন: pin_balance()\n",
        "\n",
        "**বা কিছু মেথড Add করি**.\n",
        "\n",
        "যেমন: menu(), check_balance(), withdraw().\n",
        "\n",
        "**এখন Golden Rule কি বলে?**\n",
        "\n",
        "Golden Rule বলে যে, আমার class মেম্বার যে members, যেমন data or functions,\n",
        "\n",
        "এই ২ টাকে শুধু কে access করতে পারে?\n",
        "\n",
        "**শুধু ওই class এর object access করতে পারে**,\n",
        "\n",
        " \"শুধু\" শব্দটি গুরুত্বপূর্ণ কারণ অবজেক্ট ছাড়া আর কিছু ভিতরের মেম্বারকে কল করতে পারে না.\n",
        "\n",
        "তো উপরের কোড থেকে যদি আমি প্রশ্ন করি।\n",
        "check_balance function কি withdraw function কে কল করতে পারবে?\n",
        "\n",
        "\n",
        "উত্তর হচ্ছে, 'না', Golden Rule অনুযায়ী।\n",
        "\n",
        "**So how can we access?**\n",
        "\n",
        "\n",
        "**অ্যাক্সেস করতে পারে self**\n",
        "\n",
        "\n",
        "তাহলে, self  কী?\n",
        "\n",
        "\n",
        "**self টা actually obj.**\n",
        "\n",
        "\n",
        "\n",
        "\n",
        "উপরের Code অনুযায়ী:\n",
        "\n",
        "\n",
        "যদি print(id(self)) এবং print(id( obj))\n",
        "করি তাহলে দেখবো দুটি টা একই মেমোরি লোকেশনে আছে। যার মানে এই যে এই দুটি একই জিনিস।\n",
        "\n",
        "তাই আমরা যখন একটা method বানাই, ঐ method একটা default parameter পেয়ে যায় যেটা হলো self. এই self ঐটাই, যেই object আমরা বানাই পরে.\n",
        "obj.change_pin() যখন করব তখন change_pin(self) এর যে self ওখানে as input চলে যাবে obj.\n",
        "\n",
        "\n",
        "\n",
        "\n",
        "\n",
        "\n",
        "\n",
        "\n",
        "\n",
        "\n",
        "\n",
        "\n"
      ],
      "metadata": {
        "id": "dximxfn5kNmv"
      }
    },
    {
      "cell_type": "markdown",
      "source": [
        "## **Fraction Class**"
      ],
      "metadata": {
        "id": "vjRAjFOWfTm6"
      }
    },
    {
      "cell_type": "code",
      "source": [
        "class Fraction:\n",
        "\n",
        "  # parameterized constructor\n",
        "  def __init__(self,x,y):\n",
        "    self.num = x\n",
        "    self.den = y\n",
        "\n",
        "  def __str__(self):\n",
        "    return '{}/{}'.format(self.num,self.den)\n",
        "\n",
        "  def __add__(self,other):\n",
        "    new_num = self.num*other.den + other.num*self.den\n",
        "    new_den = self.den*other.den\n",
        "\n",
        "    return '{}/{}'.format(new_num,new_den)\n",
        "\n",
        "  def __sub__(self,other):\n",
        "    new_num = self.num*other.den - other.num*self.den\n",
        "    new_den = self.den*other.den\n",
        "\n",
        "    return '{}/{}'.format(new_num,new_den)\n",
        "\n",
        "  def __mul__(self,other):\n",
        "    new_num = self.num*other.num\n",
        "    new_den = self.den*other.den\n",
        "\n",
        "    return '{}/{}'.format(new_num,new_den)\n",
        "\n",
        "  def __truediv__(self,other):\n",
        "    new_num = self.num*other.den\n",
        "    new_den = self.den*other.num\n",
        "\n",
        "    return '{}/{}'.format(new_num,new_den)\n",
        "\n",
        "  def convert_to_decimal(self):\n",
        "    return self.num/self.den\n",
        "\n",
        "\n",
        "\n",
        "\n"
      ],
      "metadata": {
        "id": "pR58fmsofSQA"
      },
      "execution_count": 40,
      "outputs": []
    },
    {
      "cell_type": "markdown",
      "source": [
        "**Output:**"
      ],
      "metadata": {
        "id": "dfaNsT4NiUnW"
      }
    },
    {
      "cell_type": "code",
      "source": [
        "f1 = Fraction(3,5)\n",
        "f2 = Fraction (3,6)"
      ],
      "metadata": {
        "id": "EP33UNTao3xv"
      },
      "execution_count": 37,
      "outputs": []
    },
    {
      "cell_type": "code",
      "source": [
        "print(f1 + f2)\n",
        "print(f1-f2)\n",
        "print(f1*f2)\n",
        "print(f1/f2)"
      ],
      "metadata": {
        "colab": {
          "base_uri": "https://localhost:8080/"
        },
        "id": "0NPkLSsnglON",
        "outputId": "b763b77c-2b6c-4cea-90a7-593aff70d0fa"
      },
      "execution_count": 41,
      "outputs": [
        {
          "output_type": "stream",
          "name": "stdout",
          "text": [
            "33/30\n",
            "3/30\n",
            "9/30\n",
            "18/15\n"
          ]
        }
      ]
    },
    {
      "cell_type": "code",
      "source": [],
      "metadata": {
        "id": "1OiCiLlghAV2"
      },
      "execution_count": 41,
      "outputs": []
    },
    {
      "cell_type": "code",
      "source": [],
      "metadata": {
        "id": "Vu0ni5C-i-nN"
      },
      "execution_count": null,
      "outputs": []
    }
  ]
}