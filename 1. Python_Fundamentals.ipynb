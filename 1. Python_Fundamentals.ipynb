{
  "nbformat": 4,
  "nbformat_minor": 0,
  "metadata": {
    "colab": {
      "provenance": [],
      "collapsed_sections": [
        "1lqgzYKuETuK",
        "ogoNZkeTFyg2",
        "lG_ceaOCIx6m",
        "Msh4Qch3ie7Z",
        "SIyg9tGSkY3i"
      ],
      "authorship_tag": "ABX9TyNfaqSzhvRvlDBBW+STOks+",
      "include_colab_link": true
    },
    "kernelspec": {
      "name": "python3",
      "display_name": "Python 3"
    },
    "language_info": {
      "name": "python"
    }
  },
  "cells": [
    {
      "cell_type": "markdown",
      "metadata": {
        "id": "view-in-github",
        "colab_type": "text"
      },
      "source": [
        "<a href=\"https://colab.research.google.com/github/armahin/python/blob/main/1.%20Python_Fundamentals.ipynb\" target=\"_parent\"><img src=\"https://colab.research.google.com/assets/colab-badge.svg\" alt=\"Open In Colab\"/></a>"
      ]
    },
    {
      "cell_type": "code",
      "execution_count": null,
      "metadata": {
        "id": "eE66eqYoAepT"
      },
      "outputs": [],
      "source": [
        "#"
      ]
    },
    {
      "cell_type": "markdown",
      "source": [
        "# Python Output"
      ],
      "metadata": {
        "id": "1lqgzYKuETuK"
      }
    },
    {
      "cell_type": "code",
      "source": [
        "#Python is a case sensitive language\n",
        "print(\"Mahin\")"
      ],
      "metadata": {
        "colab": {
          "base_uri": "https://localhost:8080/"
        },
        "id": "QdArsctaEW5j",
        "outputId": "84ff3326-c7bd-4901-ff8f-2d3a82382339"
      },
      "execution_count": null,
      "outputs": [
        {
          "output_type": "stream",
          "name": "stdout",
          "text": [
            "Mahin\n"
          ]
        }
      ]
    },
    {
      "cell_type": "code",
      "source": [
        "#print(salman khan) // Wrong as no inverted comma"
      ],
      "metadata": {
        "id": "dBH_uySHEiRr"
      },
      "execution_count": null,
      "outputs": []
    },
    {
      "cell_type": "code",
      "source": [
        "print(7)"
      ],
      "metadata": {
        "colab": {
          "base_uri": "https://localhost:8080/"
        },
        "id": "z8RJl455Em_S",
        "outputId": "42c661fa-9e49-4871-c68a-6466a5a6823d"
      },
      "execution_count": null,
      "outputs": [
        {
          "output_type": "stream",
          "name": "stdout",
          "text": [
            "7\n"
          ]
        }
      ]
    },
    {
      "cell_type": "code",
      "source": [
        "print(7.7)"
      ],
      "metadata": {
        "colab": {
          "base_uri": "https://localhost:8080/"
        },
        "id": "dDhgaQwEEoz6",
        "outputId": "6e63043c-2e8b-493f-e1a1-3af482b8f3d5"
      },
      "execution_count": null,
      "outputs": [
        {
          "output_type": "stream",
          "name": "stdout",
          "text": [
            "7.7\n"
          ]
        }
      ]
    },
    {
      "cell_type": "code",
      "source": [
        "print(True)"
      ],
      "metadata": {
        "colab": {
          "base_uri": "https://localhost:8080/"
        },
        "id": "8DkfziofEqNa",
        "outputId": "214e50b9-741e-4fc1-97c5-853f665256b7"
      },
      "execution_count": null,
      "outputs": [
        {
          "output_type": "stream",
          "name": "stdout",
          "text": [
            "True\n"
          ]
        }
      ]
    },
    {
      "cell_type": "code",
      "source": [
        "print('Hello',1,3,5,True)"
      ],
      "metadata": {
        "colab": {
          "base_uri": "https://localhost:8080/"
        },
        "id": "nx014kukErXC",
        "outputId": "6126b270-534e-4ee3-eb90-9b678fd6a186"
      },
      "execution_count": null,
      "outputs": [
        {
          "output_type": "stream",
          "name": "stdout",
          "text": [
            "Hello 1 3 5 True\n"
          ]
        }
      ]
    },
    {
      "cell_type": "code",
      "source": [
        "print('Hello',1,3,5,True,sep='/')"
      ],
      "metadata": {
        "colab": {
          "base_uri": "https://localhost:8080/"
        },
        "id": "VxkfN6AAExpD",
        "outputId": "43dafa81-e668-48cc-c11f-e76d031c7ab2"
      },
      "execution_count": null,
      "outputs": [
        {
          "output_type": "stream",
          "name": "stdout",
          "text": [
            "Hello/1/3/5/True\n"
          ]
        }
      ]
    },
    {
      "cell_type": "code",
      "source": [
        "print('Hello',end='-')\n",
        "print('World')"
      ],
      "metadata": {
        "colab": {
          "base_uri": "https://localhost:8080/"
        },
        "id": "YdVyMYX8FHGJ",
        "outputId": "f5f35df4-8f72-4a6e-e6c4-4ddf24eb4780"
      },
      "execution_count": null,
      "outputs": [
        {
          "output_type": "stream",
          "name": "stdout",
          "text": [
            "Hello-World\n"
          ]
        }
      ]
    },
    {
      "cell_type": "markdown",
      "source": [
        "# Data Types"
      ],
      "metadata": {
        "id": "ogoNZkeTFyg2"
      }
    },
    {
      "cell_type": "markdown",
      "source": [
        "Every programming language has data types which means how many data types the language you chose can work with.\n",
        "**So let's see how many of data types python can work with.**\n"
      ],
      "metadata": {
        "id": "67R9es1CGB34"
      }
    },
    {
      "cell_type": "code",
      "source": [
        "# Integer\n",
        "print(8)\n",
        "print(1e308) # 1*10^308"
      ],
      "metadata": {
        "colab": {
          "base_uri": "https://localhost:8080/"
        },
        "id": "h5fL6YG6HCdq",
        "outputId": "be2a35f0-d691-4875-8846-9df0bedf3568"
      },
      "execution_count": null,
      "outputs": [
        {
          "output_type": "stream",
          "name": "stdout",
          "text": [
            "8\n",
            "1e+308\n"
          ]
        }
      ]
    },
    {
      "cell_type": "code",
      "source": [
        "#Decimal/Float\n",
        "print(8.55)\n",
        "print(1.7e308)"
      ],
      "metadata": {
        "colab": {
          "base_uri": "https://localhost:8080/"
        },
        "id": "FCyajy3VHGNr",
        "outputId": "059c3e2b-da74-4d7f-ea8f-714f098a3021"
      },
      "execution_count": null,
      "outputs": [
        {
          "output_type": "stream",
          "name": "stdout",
          "text": [
            "8.55\n",
            "1.7e+308\n"
          ]
        }
      ]
    },
    {
      "cell_type": "code",
      "source": [
        "#Boolean\n",
        "print(True)\n",
        "print(False)"
      ],
      "metadata": {
        "colab": {
          "base_uri": "https://localhost:8080/"
        },
        "id": "cQZQcHuvHeTy",
        "outputId": "9f367636-2ca7-44dc-a798-df4e3f06fd2f"
      },
      "execution_count": null,
      "outputs": [
        {
          "output_type": "stream",
          "name": "stdout",
          "text": [
            "True\n",
            "False\n"
          ]
        }
      ]
    },
    {
      "cell_type": "code",
      "source": [
        "#Text/String\n",
        "print('Hello World')"
      ],
      "metadata": {
        "colab": {
          "base_uri": "https://localhost:8080/"
        },
        "id": "ifJZ9nuFHozz",
        "outputId": "26a4c89a-b320-482e-d228-29c8bf9f1fc9"
      },
      "execution_count": null,
      "outputs": [
        {
          "output_type": "stream",
          "name": "stdout",
          "text": [
            "Hello World\n"
          ]
        }
      ]
    },
    {
      "cell_type": "code",
      "source": [
        "#Complex Number\n",
        "print(5+6j)"
      ],
      "metadata": {
        "colab": {
          "base_uri": "https://localhost:8080/"
        },
        "id": "0KgE7VSNHtzr",
        "outputId": "8975b014-d784-4c2c-8a4e-70b939ffabdf"
      },
      "execution_count": null,
      "outputs": [
        {
          "output_type": "stream",
          "name": "stdout",
          "text": [
            "(5+6j)\n"
          ]
        }
      ]
    },
    {
      "cell_type": "code",
      "source": [
        "#List/ Array of C (though a bit different)\n",
        "print([1,2,3,4,5])"
      ],
      "metadata": {
        "colab": {
          "base_uri": "https://localhost:8080/"
        },
        "id": "z5aFuvyhHyiz",
        "outputId": "e1833cd8-023f-4a10-b5e9-86d82a25d3ce"
      },
      "execution_count": null,
      "outputs": [
        {
          "output_type": "stream",
          "name": "stdout",
          "text": [
            "[1, 2, 3, 4, 5]\n"
          ]
        }
      ]
    },
    {
      "cell_type": "code",
      "source": [
        "#Tuple (List er bhai)\n",
        "print((1,2,3,4,5))"
      ],
      "metadata": {
        "colab": {
          "base_uri": "https://localhost:8080/"
        },
        "id": "135RjGHzH6Oz",
        "outputId": "97338347-8b74-484e-aa6a-b5eb660f6101"
      },
      "execution_count": null,
      "outputs": [
        {
          "output_type": "stream",
          "name": "stdout",
          "text": [
            "(1, 2, 3, 4, 5)\n"
          ]
        }
      ]
    },
    {
      "cell_type": "code",
      "source": [
        "#Sets\n",
        "print({1,2,3,4,5})"
      ],
      "metadata": {
        "colab": {
          "base_uri": "https://localhost:8080/"
        },
        "id": "tvoCTO6FIDgT",
        "outputId": "4b930a86-4922-43dd-f155-5e6d85c6dcd0"
      },
      "execution_count": null,
      "outputs": [
        {
          "output_type": "stream",
          "name": "stdout",
          "text": [
            "{1, 2, 3, 4, 5}\n"
          ]
        }
      ]
    },
    {
      "cell_type": "code",
      "source": [
        "#Dictionary / Value Pairs\n",
        "print({'name': 'Nitesh','gender': 'Male','weight':70})"
      ],
      "metadata": {
        "colab": {
          "base_uri": "https://localhost:8080/"
        },
        "id": "yahrjV3PIIjT",
        "outputId": "f8e71636-7e17-43ed-ce61-946cc2d16c01"
      },
      "execution_count": null,
      "outputs": [
        {
          "output_type": "stream",
          "name": "stdout",
          "text": [
            "{'name': 'Nitesh', 'gender': 'Male', 'weight': 70}\n"
          ]
        }
      ]
    },
    {
      "cell_type": "code",
      "source": [
        "#Type\n",
        "type(2)\n",
        "type('hello')"
      ],
      "metadata": {
        "colab": {
          "base_uri": "https://localhost:8080/"
        },
        "id": "znl3cl-tIWvL",
        "outputId": "e558d6d1-097d-4bf4-d32b-78d4abb5f513"
      },
      "execution_count": null,
      "outputs": [
        {
          "output_type": "execute_result",
          "data": {
            "text/plain": [
              "str"
            ]
          },
          "metadata": {},
          "execution_count": 32
        }
      ]
    },
    {
      "cell_type": "markdown",
      "source": [
        "# Variables"
      ],
      "metadata": {
        "id": "lG_ceaOCIx6m"
      }
    },
    {
      "cell_type": "markdown",
      "source": [
        "**Variables are basically containers where we store data.**\n",
        "They are containers for future use\n",
        "\n",
        "Static vs Dynamic Typing\n",
        "\n",
        "Static vs Dynamic Binding\n",
        "\n",
        "Stylish declaration techniques"
      ],
      "metadata": {
        "id": "sX-ZvU8BI409"
      }
    },
    {
      "cell_type": "code",
      "source": [
        "# C/C++\n",
        "name = 'mahin'\n",
        "print(name)\n",
        "\n",
        "a=5\n",
        "b=6\n",
        "print(a+b)"
      ],
      "metadata": {
        "colab": {
          "base_uri": "https://localhost:8080/"
        },
        "id": "cus0bkwRJC1T",
        "outputId": "29875dd5-63d1-4333-a0b4-c9940de40b54"
      },
      "execution_count": null,
      "outputs": [
        {
          "output_type": "stream",
          "name": "stdout",
          "text": [
            "mahin\n",
            "11\n"
          ]
        }
      ]
    },
    {
      "cell_type": "markdown",
      "source": [
        "**Dynamic Typing**\n",
        "\n",
        "*Where you **do not** tell the data type of the variable*\n",
        "\n",
        "a = 7\n",
        "\n",
        "print(a)\n",
        "\n",
        "---\n",
        "**Static Typing**\n",
        "\n",
        "*Where you **do** tell the data type of the variable*\n",
        "\n",
        "int a = 7\n",
        "\n",
        "print(a)\n",
        "\n",
        "\n",
        "---\n",
        "\n",
        "**Dynamic Binding**\n",
        "\n",
        "*Whenever you're making a data type in python,that doesn't have any fixed data type*\n",
        "\n",
        "a = 7\n",
        "\n",
        "print(a)\n",
        "\n",
        "a = 'mahin'\n",
        "\n",
        "print(a)\n",
        "\n",
        "\n",
        "---\n",
        "**Static Binding**\n",
        "\n",
        "*Whenever you're making a data type in python,that is fixed data type*\n",
        "\n",
        "\n"
      ],
      "metadata": {
        "id": "wDP2MJ5zKSxj"
      }
    },
    {
      "cell_type": "code",
      "source": [
        "#Stylish Way of Making Variables"
      ],
      "metadata": {
        "id": "n8lk5sEhKRBz"
      },
      "execution_count": null,
      "outputs": []
    },
    {
      "cell_type": "code",
      "source": [
        "a,b,c = 1,2,3\n",
        "print(a,b,c)"
      ],
      "metadata": {
        "colab": {
          "base_uri": "https://localhost:8080/"
        },
        "id": "3lBynks2L1uU",
        "outputId": "e2c7d18a-7c94-4bfa-e741-4489291b40bf"
      },
      "execution_count": null,
      "outputs": [
        {
          "output_type": "stream",
          "name": "stdout",
          "text": [
            "1 2 3\n"
          ]
        }
      ]
    },
    {
      "cell_type": "code",
      "source": [
        "a=b=c = 5\n",
        "print(a,b,c)"
      ],
      "metadata": {
        "colab": {
          "base_uri": "https://localhost:8080/"
        },
        "id": "kXc3DnCXL40L",
        "outputId": "56d285b4-e2cf-41a6-f8a8-1a72bb12cf1c"
      },
      "execution_count": null,
      "outputs": [
        {
          "output_type": "stream",
          "name": "stdout",
          "text": [
            "5 5 5\n"
          ]
        }
      ]
    },
    {
      "cell_type": "code",
      "source": [],
      "metadata": {
        "id": "OOfYP5PaL_4s"
      },
      "execution_count": null,
      "outputs": []
    },
    {
      "cell_type": "markdown",
      "source": [
        "# Keywords & Identifiers"
      ],
      "metadata": {
        "id": "uLM8-7zgMEVT"
      }
    },
    {
      "cell_type": "markdown",
      "source": [
        " **Keywords:** Python has 32 Keywords and Python doesn't allow these 32 words as a variable\n",
        "\n",
        "  **Identifiers:** Name is the identifier like what name you can use as a variable."
      ],
      "metadata": {
        "id": "dHgxFPPsNkrA"
      }
    },
    {
      "cell_type": "markdown",
      "source": [
        "# User Input"
      ],
      "metadata": {
        "id": "Msh4Qch3ie7Z"
      }
    },
    {
      "cell_type": "code",
      "source": [
        "input('Write Your Name ')"
      ],
      "metadata": {
        "colab": {
          "base_uri": "https://localhost:8080/",
          "height": 53
        },
        "id": "AiwZjVvCiiDt",
        "outputId": "55bd356a-e14e-43cf-efbe-07e968fbfb5c"
      },
      "execution_count": null,
      "outputs": [
        {
          "name": "stdout",
          "output_type": "stream",
          "text": [
            "Write Your Name 202312\n"
          ]
        },
        {
          "output_type": "execute_result",
          "data": {
            "text/plain": [
              "'202312'"
            ],
            "application/vnd.google.colaboratory.intrinsic+json": {
              "type": "string"
            }
          },
          "metadata": {},
          "execution_count": 4
        }
      ]
    },
    {
      "cell_type": "code",
      "source": [
        "a = input('Enter First Number ')\n",
        "b = input('Enter Second Number')\n",
        "print(type(a),type(b))\n",
        "result = int(a)+int(b)\n",
        "print(result)"
      ],
      "metadata": {
        "colab": {
          "base_uri": "https://localhost:8080/"
        },
        "id": "6obtcCESjVZJ",
        "outputId": "b37b9606-7036-486d-8f7c-34d4c3a3250e"
      },
      "execution_count": null,
      "outputs": [
        {
          "output_type": "stream",
          "name": "stdout",
          "text": [
            "Enter First Number 134134\n",
            "Enter Second Number134123136\n",
            "<class 'str'> <class 'str'>\n",
            "134257270\n"
          ]
        }
      ]
    },
    {
      "cell_type": "markdown",
      "source": [
        "# Type Conversion"
      ],
      "metadata": {
        "id": "SIyg9tGSkY3i"
      }
    },
    {
      "cell_type": "markdown",
      "source": [
        "Type conversion is to convert a data type to a different data type.\n",
        "\n",
        "Python has **two types** of type conversion:\n",
        "\n",
        "\n",
        "1.   Implicit = When python automatically understands and don't throw any error.\n",
        "2.   Explicit = When Implicit Type Conversion doesn't work.\n",
        "\n",
        "***N.B: Type Conversion doesn't make permanent changes.In memory new space is created for it.The old one stays the same.***"
      ],
      "metadata": {
        "id": "guu3zgS-kfjZ"
      }
    },
    {
      "cell_type": "code",
      "source": [
        "#Implicit :\n",
        "print(3+4.612)"
      ],
      "metadata": {
        "colab": {
          "base_uri": "https://localhost:8080/"
        },
        "id": "yRNyqOASktre",
        "outputId": "af984fdf-e1d1-4b03-c322-ed680cd3043c"
      },
      "execution_count": null,
      "outputs": [
        {
          "output_type": "stream",
          "name": "stdout",
          "text": [
            "7.612\n"
          ]
        }
      ]
    },
    {
      "cell_type": "code",
      "source": [
        "#Explicit:\n",
        "# Here this will throw error:\n",
        "# print(4+'4');\n",
        "#So we will have to convert the type\n",
        "\n",
        "#Str to Int:\n",
        "print(4+int('4'))\n",
        "\n",
        "#Int to Str:\n",
        "print(str(4))\n",
        "\n",
        "#Float\n",
        "float(4)\n",
        "\n",
        "\n"
      ],
      "metadata": {
        "colab": {
          "base_uri": "https://localhost:8080/"
        },
        "id": "rY-LU8DjmTsO",
        "outputId": "da13022f-a5e3-400b-9b18-95cd68a5fe0f"
      },
      "execution_count": null,
      "outputs": [
        {
          "output_type": "stream",
          "name": "stdout",
          "text": [
            "8\n",
            "4\n"
          ]
        },
        {
          "output_type": "execute_result",
          "data": {
            "text/plain": [
              "4.0"
            ]
          },
          "metadata": {},
          "execution_count": 14
        }
      ]
    },
    {
      "cell_type": "code",
      "source": [],
      "metadata": {
        "id": "Q_PXJ2K0mZ_O"
      },
      "execution_count": null,
      "outputs": []
    },
    {
      "cell_type": "markdown",
      "source": [
        "# Literals\n",
        "\n"
      ],
      "metadata": {
        "id": "JRgFjPX7oOoj"
      }
    },
    {
      "cell_type": "markdown",
      "source": [
        "Where variables are literally containers where value is stored, Literals are the value that is stored in variables as in a = 2 here a is variable and 2 is literal."
      ],
      "metadata": {
        "id": "5GYjMylXmFYo"
      }
    },
    {
      "cell_type": "code",
      "source": [],
      "metadata": {
        "id": "MAXdJytimKQC"
      },
      "execution_count": null,
      "outputs": []
    }
  ]
}