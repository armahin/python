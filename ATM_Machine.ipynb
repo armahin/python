{
  "nbformat": 4,
  "nbformat_minor": 0,
  "metadata": {
    "colab": {
      "provenance": [],
      "authorship_tag": "ABX9TyOtVkuZ2bu11feBYjv2GPEN",
      "include_colab_link": true
    },
    "kernelspec": {
      "name": "python3",
      "display_name": "Python 3"
    },
    "language_info": {
      "name": "python"
    }
  },
  "cells": [
    {
      "cell_type": "markdown",
      "metadata": {
        "id": "view-in-github",
        "colab_type": "text"
      },
      "source": [
        "<a href=\"https://colab.research.google.com/github/armahin/python/blob/main/ATM_Machine.ipynb\" target=\"_parent\"><img src=\"https://colab.research.google.com/assets/colab-badge.svg\" alt=\"Open In Colab\"/></a>"
      ]
    },
    {
      "cell_type": "code",
      "execution_count": 2,
      "metadata": {
        "id": "0UOOVHAkM0st"
      },
      "outputs": [],
      "source": [
        "class Atm:\n",
        "\n",
        "  def __init__(self):\n",
        "    self.pin = ''\n",
        "    self.balance =''\n",
        "    self.menu()\n",
        "\n",
        "  def menu(self):\n",
        "    user_input = input(\"\"\"\n",
        "    Hi how can i help you?\n",
        "    1. Press 1 to create pin\n",
        "    2. Press 2 to change pin\n",
        "    3. Press 3 to check balance\n",
        "    4. Press 4 to withdraw\n",
        "    5. Anything else to exit\n",
        "    \"\"\")\n",
        "    if user_input == '1':\n",
        "      #Create pin\n",
        "      self.create_pin()\n",
        "    elif user_input == '2':\n",
        "      #Change pin\n",
        "      self.change_pin()\n",
        "    elif user_input == '3':\n",
        "      #Check Balance\n",
        "      self.check_balance()\n",
        "    elif user_input == '4':\n",
        "      #Withdraw\n",
        "      self.withdraw()\n",
        "    else:\n",
        "      #Exit\n",
        "      pass\n",
        "  def create_pin(self):\n",
        "    user_pin = int(input('Enter Your Pin'))\n",
        "    self.pin = user_pin\n",
        "    user_balance = int(input('Enter Balance'))\n",
        "    self.balance = user_balance\n",
        "    print('Pin Created Successfully')\n",
        "    self.menu()\n",
        "\n",
        "  def change_pin(self):\n",
        "    old_pin = int(input('Enter Your Old Pin'))\n",
        "    if old_pin == self.pin:\n",
        "      new_pin = int(input('Enter Your New Pin'))\n",
        "      self.pin = new_pin\n",
        "      print('Pin Changed Successfully')\n",
        "      self.menu()\n",
        "    else:\n",
        "      print('Sorry')\n",
        "      self.menu()\n",
        "  def check_balance(self):\n",
        "    pin = int(input('Enter Your Pin'))\n",
        "    if pin == self.pin:\n",
        "      print('Balance is ',self.balance)\n",
        "      self.menu()\n",
        "    else:\n",
        "      print('Wrong Pin')\n",
        "      self.menu()\n",
        "  def withdraw(self):\n",
        "    pin = int(input('Enter Your Pin'))\n",
        "    if pin == self.pin:\n",
        "      #Withdraw Balance\n",
        "      wit_bal = int(input('How much you wanna withdraw? '))\n",
        "      if wit_bal <= self.balance:\n",
        "        self.balance = self.balance - wit_bal\n",
        "        print('Withdrawn Successfully','Balance is ',self.balance)\n",
        "\n",
        "      else:\n",
        "        print(\" Balance Outreached it's limit \")\n",
        "\n",
        "    else:\n",
        "      print('Wrong Pin')\n",
        "    self.menu()\n",
        "\n"
      ]
    },
    {
      "cell_type": "code",
      "source": [
        "calling = Atm()"
      ],
      "metadata": {
        "id": "JBvjdsxXNZJo"
      },
      "execution_count": null,
      "outputs": []
    }
  ]
}